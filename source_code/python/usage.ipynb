{
 "cells": [
  {
   "cell_type": "markdown",
   "id": "895373b8",
   "metadata": {},
   "source": [
    "## Usage test of the wrapper\n"
   ]
  },
  {
   "cell_type": "code",
   "execution_count": 1,
   "id": "9f4fcb65",
   "metadata": {},
   "outputs": [],
   "source": [
    "# imports\n",
    "import pandas as pd\n",
    "import numpy as np\n",
    "\n",
    "import logging\n",
    "\n",
    "# from wrapper import RustDataModule\n",
    "from rust_time_series.rust_time_series import (\n",
    "    BaseDataSet,\n",
    "    DatasetType,\n",
    "    ImputeStrategy,\n",
    "    SplittingStrategy,\n",
    ")"
   ]
  },
  {
   "cell_type": "code",
   "execution_count": 2,
   "id": "734252bb",
   "metadata": {},
   "outputs": [],
   "source": [
    "# set up logging\n",
    "logging.basicConfig(level=logging.INFO)"
   ]
  },
  {
   "cell_type": "code",
   "execution_count": 3,
   "id": "1a48eb98",
   "metadata": {},
   "outputs": [
    {
     "data": {
      "text/plain": [
       "array([[100.,   3.,   2.,  34.,  53.,  95.,  88.,  59.,  63.,  36.],\n",
       "       [ 70.,  24.,  50.,  27.,  84.,  66.,  26.,   0.,  86.,  17.],\n",
       "       [ 63.,  49.,  21.,   9.,  13.,  86.,  13.,  80.,  85.,  75.],\n",
       "       [ 77.,  10.,  99.,  37.,  21.,  97.,   4.,  74.,  20.,  95.],\n",
       "       [ 29.,  58.,  89.,  54.,  12.,  96.,  31.,  39.,  98.,  73.],\n",
       "       [ 98.,  54.,  45.,  31.,  74.,   8.,  67.,  56.,  45.,  76.],\n",
       "       [ 70.,  26.,  53.,  44.,  69.,  89.,  91.,  25.,   8.,  53.],\n",
       "       [ 70.,  16.,  77.,  88.,  35.,  76.,  69.,  75.,  53.,  89.],\n",
       "       [ 36.,  19.,   7.,   1.,  55.,  19.,  84.,  94.,  37.,  73.],\n",
       "       [ 34.,  79.,  41.,  21.,  78.,  38.,  61.,  87.,  71.,  48.],\n",
       "       [ 69.,  49.,  71.,  56.,  67.,  55.,  83.,  56.,  59.,   3.],\n",
       "       [ 46.,  52.,  77.,  18.,  79.,  38.,  44.,  33.,  16.,  90.],\n",
       "       [ 20.,  64.,   1.,  58.,  80.,  63.,  16.,  92.,  78.,   9.],\n",
       "       [ 43.,  65.,  80.,  43.,  62.,  82.,  23.,  41.,  57.,  50.],\n",
       "       [ 54.,  15.,  81.,  68.,  39.,  55.,  35.,  91.,  50.,  79.],\n",
       "       [ 98.,  92.,  99.,  12.,  11.,   5.,  93.,  25.,  19.,  14.],\n",
       "       [  5.,  99.,  34.,  74.,  13.,  58.,  33.,  52.,  37.,  99.],\n",
       "       [ 17.,  21.,  47.,  71.,  13.,  52.,   2.,  39.,  37.,  52.],\n",
       "       [ 18.,   0.,  29.,  32.,  53.,  86.,  53.,  17.,  31.,  90.],\n",
       "       [  8.,  28.,  85.,  98.,  16.,  87.,  47.,  46.,  78.,  90.],\n",
       "       [ 27.,  85.,  83.,  42.,  75.,  58.,  79.,  84.,  56.,  89.],\n",
       "       [ 30.,  15.,  29.,  92.,  18.,  55.,  49.,  65.,  85.,  97.],\n",
       "       [ 53.,  92.,  61.,  93.,  20.,  27.,  97.,  83.,  99.,  12.],\n",
       "       [ 68.,  60.,  67.,  57.,  44.,  33.,  15.,  84.,  54.,  23.],\n",
       "       [ 73.,   1.,  44.,  32.,  38.,  60.,   3.,  85.,  13.,  90.],\n",
       "       [ 40.,   5.,   0.,   2.,  46.,   8.,  53.,  75.,  39.,  73.],\n",
       "       [ 84.,  93.,   9.,   6.,   4.,  34.,  98.,  30.,  63.,   0.],\n",
       "       [ 23.,  52.,  42.,  77.,  68.,  32.,  60.,  97.,  11.,  32.],\n",
       "       [ 85.,  49.,  39.,  85.,  46.,  91.,  24.,   3.,  82.,  60.],\n",
       "       [ 12.,  17.,  69.,   7.,  19.,  95.,  86.,  42.,  78.,  52.],\n",
       "       [ 16.,  10.,  81.,  51.,  49.,  16.,   3.,  31.,  28.,  48.],\n",
       "       [ 74.,  71.,  70.,  72.,  36.,  59.,  72.,  93.,  49.,  75.],\n",
       "       [ 30.,  20.,  48.,  80.,   2.,  39.,  14.,   0.,  40.,  98.],\n",
       "       [ 97.,  42.,  40.,  84.,   5.,  60.,  20.,  38.,  89.,  16.],\n",
       "       [ 14.,  55.,  96.,  30.,   2.,   9.,  74.,  10.,  79.,  95.],\n",
       "       [ 22.,  36.,  55.,  32.,  92.,  74.,  62.,  63.,  53.,  31.],\n",
       "       [ 11.,  95.,  11.,  98.,  35.,  83.,  13.,   8.,  94.,  16.],\n",
       "       [ 28.,  43.,  28.,  89.,   8.,  83.,  60.,  67.,  80.,  59.],\n",
       "       [ 71.,  63.,  92.,  18.,  24.,  78.,  57.,  91.,   2.,  15.],\n",
       "       [ 71.,  56.,  62.,  50.,  21.,  66.,  22.,  33.,  98.,  94.],\n",
       "       [  3.,  13.,  51.,  96.,  75.,  57.,  69.,  73.,  83.,  34.],\n",
       "       [ 33.,  72.,  36.,  71.,  85.,  54.,  24.,  62.,  41.,  95.],\n",
       "       [ 16.,  44.,  28.,  45.,  87.,   2.,  94.,  87.,  11.,  18.],\n",
       "       [ 13.,  23.,  25.,  66.,  20.,  94.,  62.,  71.,  15.,  41.],\n",
       "       [ 74.,  43.,  43.,  39.,  38.,   3.,  27.,  48.,  35.,   8.],\n",
       "       [ 33.,  18.,  87.,  61.,  42.,  91.,  28.,  86.,  11.,  69.],\n",
       "       [ 58.,  89.,  40.,  99.,  68.,  99.,  20.,  77.,  14.,  17.],\n",
       "       [ 65.,  88.,   9.,  84.,  54.,  52.,  80.,  51.,  25.,  75.],\n",
       "       [ 84.,  67.,  80.,  19.,  23.,  54.,  69.,  51.,  94.,  83.],\n",
       "       [ 35.,  10.,  22.,  82.,  84.,  75.,  61.,   1.,  59.,  28.],\n",
       "       [ 21.,  65.,  69.,  86.,  11.,  80.,  53.,  21.,  98.,  70.],\n",
       "       [ 31.,  16.,  67.,  56.,  21.,  77.,  65.,   8.,  74.,  53.],\n",
       "       [ 73.,  31.,  41.,  37.,   9.,   4.,  28.,  67.,  74.,  93.],\n",
       "       [ 73.,   8.,  86.,  76.,  77.,  80.,   1.,  47.,  79.,  33.],\n",
       "       [ 48.,  84.,  68.,  86.,  48.,  44.,  40.,  39.,  87.,  26.],\n",
       "       [ 46.,  99.,  11.,  51.,   4.,  86.,  17.,  32.,  45.,  11.],\n",
       "       [ 52.,  88.,  75.,  63.,  78.,  94.,  12.,   6.,  49.,  74.],\n",
       "       [ 16.,  65.,  97.,   1.,  74.,  73.,  61.,   3.,  18.,  56.],\n",
       "       [  5.,  94.,  70.,  81.,   3.,  16.,  47.,  27.,  77.,  20.],\n",
       "       [ 18.,  93.,  13.,  33.,  54.,  29.,  20.,  40.,  47.,   7.],\n",
       "       [ 78.,  49.,  49.,  10.,  23.,  97.,  12.,  38.,  98.,  73.],\n",
       "       [  6.,  36.,  61.,  17.,  63.,  52.,  47.,  42.,  42.,  51.],\n",
       "       [ 31.,  22.,  21.,  15.,  41.,  83.,  88.,  56.,  93.,  25.],\n",
       "       [ 32.,  58.,  35.,  30.,  68.,  13.,  94.,  59.,  29.,  98.],\n",
       "       [ 82.,   6.,  22.,  74.,   2.,  63.,  61.,  52.,  58.,   2.],\n",
       "       [ 77.,   3.,  72.,  36.,  17.,  71.,  37.,  53.,  35.,  77.],\n",
       "       [ 97.,  56.,  16.,   1.,  23.,   5.,  56.,  23.,  90.,  38.],\n",
       "       [ 43.,  70.,  87.,  32.,   5.,   9.,  62.,  10.,  61.,  40.],\n",
       "       [ 28.,  30.,  74.,  30.,  44.,  72.,  31.,  11.,  61.,  78.],\n",
       "       [ 44.,  15.,  96.,  87.,   2.,  23.,  54.,  47.,  76.,  64.],\n",
       "       [ 89.,  12.,  71.,  33.,  88.,  71.,  39.,  67.,  56.,  21.],\n",
       "       [ 49.,  88.,  48.,  58.,  58.,  57.,  70.,  15.,  85.,  24.],\n",
       "       [ 96.,  13.,  13.,  26.,  56.,  59.,  28.,  13.,  66.,  71.],\n",
       "       [ 93.,  73.,  71.,  54.,  59.,  96.,  50.,   7.,  63.,  47.],\n",
       "       [ 62.,   0.,  36.,  55.,  44.,  27.,  10.,  42.,  36.,  72.],\n",
       "       [ 91.,  45.,  30.,  24.,  56.,  10.,  62.,  53.,  22.,  99.],\n",
       "       [ 61.,  47.,  77.,  97.,   2.,  20.,  72.,  80.,  56.,  98.],\n",
       "       [ 45.,  50.,  37.,  31.,  46.,  26.,   8.,  90.,  66.,   2.],\n",
       "       [ 68.,  67.,  21.,  33.,  88.,  63.,  16.,  56.,  48.,  84.],\n",
       "       [ 14.,  73.,  30.,  93.,  20.,  62.,  32.,  75.,  25.,  81.],\n",
       "       [ 25.,  69.,  42.,  43.,  16.,  94.,  66.,  87.,  15.,  91.],\n",
       "       [ 83.,  79.,  25.,  95.,  74.,  34.,  81.,  73.,  91.,  83.],\n",
       "       [ 36.,   3.,  61.,  13.,  14.,  12.,  19.,  29.,  58.,  31.],\n",
       "       [ 67.,  69.,  62.,  24.,  27.,  41.,  67.,   7.,  79.,  25.],\n",
       "       [ 93.,  39.,  22.,  57.,  43.,  49.,  49.,  33.,  24.,  63.],\n",
       "       [ 24.,  10.,  75.,   2.,  45.,  57.,  55.,  44.,  64.,  47.],\n",
       "       [ 98.,  31.,   9.,  47.,  45.,  52.,  43.,   9.,  70.,  53.],\n",
       "       [ 62.,  14.,   6.,  21.,  18.,   1.,  29.,   3.,  78.,  65.],\n",
       "       [ 64.,  99.,  38.,  48.,  65.,  28.,  98.,  22.,  38.,  80.],\n",
       "       [ 61.,  76.,   3.,  55.,  98.,  63.,  26.,   4.,   3.,  87.],\n",
       "       [ 54.,  87.,  55.,  34.,  22.,   0.,  48.,  22.,  77.,  51.],\n",
       "       [ 49.,  58.,  21.,  90.,  55.,  88.,  27.,  78.,  38.,  96.],\n",
       "       [  6.,  18.,  60.,  62.,   5.,  35.,  66.,  31.,   6.,  38.],\n",
       "       [ 51.,  21.,  37.,  22.,   8.,  98.,  30.,  76.,  94.,  33.],\n",
       "       [ 60.,  14.,   4.,   3.,  47.,  85.,  35.,  66.,  96.,  21.],\n",
       "       [ 77.,  72.,  96.,  93.,  66.,  16.,  46.,  47.,  94.,  86.],\n",
       "       [ 24.,  58.,  91.,  46.,  31.,  45.,  92.,  45.,  10.,  14.],\n",
       "       [ 89.,  56.,   6.,  99.,  94.,  38.,  65.,  97.,  67.,  92.],\n",
       "       [ 87.,   2.,  46.,   9.,  75.,  65.,   1.,  10.,  75.,  86.],\n",
       "       [ 58.,  19.,  72.,  46.,  38.,   0.,   0.,  43.,  29.,  26.]])"
      ]
     },
     "execution_count": 3,
     "metadata": {},
     "output_type": "execute_result"
    }
   ],
   "source": [
    "# create dummy 2D array\n",
    "dummy = np.random.randint(0, 100, (100, 10)).astype(float)\n",
    "\n",
    "# Create a RustTimeSeries instance\n",
    "dummy_ts = BaseDataSet(dummy, 3, 3, 1)\n",
    "dummy_ts.set_to_100()\n",
    "\n",
    "\n",
    "dummy"
   ]
  },
  {
   "cell_type": "code",
   "execution_count": 4,
   "id": "68a48587",
   "metadata": {},
   "outputs": [
    {
     "data": {
      "text/plain": [
       "array([[70., 24., 50., 27., 84., 66., 26.,  0., 86., 17.],\n",
       "       [63., 49., 21.,  9., 13., 86., 13., 80., 85., 75.],\n",
       "       [77., 10., 99., 37., 21., 97.,  4., 74., 20., 95.]])"
      ]
     },
     "execution_count": 4,
     "metadata": {},
     "output_type": "execute_result"
    }
   ],
   "source": [
    "dummy_ts.get(1).sequence()"
   ]
  },
  {
   "cell_type": "code",
   "execution_count": 5,
   "id": "f2ec0e44",
   "metadata": {},
   "outputs": [
    {
     "name": "stdout",
     "output_type": "stream",
     "text": [
      "70 20 10\n"
     ]
    }
   ],
   "source": [
    "split = (0.7, 0.2, 0.1)\n",
    "# confirm that split adds up to 1\n",
    "# assert sum(split) == 1.0, \"Split proportions must sum to 1.\"\n",
    "\n",
    "(part1, part2, part3) = dummy_ts.split(SplittingStrategy.Temporal, *split)\n",
    "\n",
    "print(len(part1), len(part2), len(part3))"
   ]
  },
  {
   "cell_type": "markdown",
   "id": "15bec8c0",
   "metadata": {},
   "source": [
    "### Dummy classification dataset"
   ]
  },
  {
   "cell_type": "code",
   "execution_count": 6,
   "id": "76e7438d",
   "metadata": {},
   "outputs": [
    {
     "data": {
      "text/plain": [
       "100"
      ]
     },
     "execution_count": 6,
     "metadata": {},
     "output_type": "execute_result"
    }
   ],
   "source": [
    "labels = np.ones((100, 1), dtype=np.float64)\n",
    "labels = labels.astype(str)\n",
    "labels_list = labels.flatten().tolist()\n",
    "\n",
    "dummy_class = BaseDataSet.new_classification(\n",
    "    dummy, labels_list\n",
    ")\n",
    "\n",
    "dummy_class.len()"
   ]
  },
  {
   "cell_type": "code",
   "execution_count": 7,
   "id": "80ca28ec",
   "metadata": {},
   "outputs": [
    {
     "name": "stdout",
     "output_type": "stream",
     "text": [
      "70 20 10\n"
     ]
    }
   ],
   "source": [
    "split = (0.7, 0.2, 0.1)\n",
    "# confirm that split adds up to 1\n",
    "# assert sum(split) == 1.0, \"Split proportions must sum to 1.\"\n",
    "\n",
    "(part1, part2, part3) = dummy_class.split(SplittingStrategy.Random, *split)\n",
    "\n",
    "print(len(part1), len(part2), len(part3))"
   ]
  },
  {
   "cell_type": "markdown",
   "id": "75d6150e",
   "metadata": {},
   "source": [
    "### Forecasting Dataset"
   ]
  },
  {
   "cell_type": "code",
   "execution_count": 8,
   "id": "34153161",
   "metadata": {},
   "outputs": [
    {
     "data": {
      "text/plain": [
       "array([[0.00000000e+00, 0.00000000e+00, 0.00000000e+00, ...,\n",
       "        0.00000000e+00, 0.00000000e+00, 0.00000000e+00],\n",
       "       [0.00000000e+00, 0.00000000e+00, 0.00000000e+00, ...,\n",
       "        0.00000000e+00, 0.00000000e+00, 0.00000000e+00],\n",
       "       [0.00000000e+00, 0.00000000e+00, 0.00000000e+00, ...,\n",
       "        0.00000000e+00, 0.00000000e+00, 0.00000000e+00],\n",
       "       ...,\n",
       "       [2.53807107e+00, 2.06258890e+01, 1.73761946e+00, ...,\n",
       "        1.53589316e+02, 6.70087977e+02, 6.86486486e+03],\n",
       "       [1.26903553e+00, 2.13371266e+01, 1.73761946e+00, ...,\n",
       "        1.46911519e+02, 6.46627566e+02, 6.54054054e+03],\n",
       "       [2.53807107e+00, 1.99146515e+01, 1.73761946e+00, ...,\n",
       "        1.31886477e+02, 6.73020528e+02, 7.13513514e+03]])"
      ]
     },
     "execution_count": 8,
     "metadata": {},
     "output_type": "execute_result"
    }
   ],
   "source": [
    "# Load the dataset\n",
    "file_path = \"LD2011_2014.txt\"\n",
    "df = pd.read_csv(file_path, sep=\";\", decimal=\",\")\n",
    "# drop first column (date)\n",
    "df = df.drop(columns=[\"date\"])\n",
    "# turn pandas DataFrame into numPy array\n",
    "data = df.to_numpy(dtype=np.float64)\n",
    "\n",
    "data"
   ]
  },
  {
   "cell_type": "code",
   "execution_count": 9,
   "id": "cfa23e9f",
   "metadata": {},
   "outputs": [
    {
     "name": "stdout",
     "output_type": "stream",
     "text": [
      "<class 'numpy.ndarray'>\n",
      "(140256, 370)\n"
     ]
    }
   ],
   "source": [
    "ts = BaseDataSet(data, 3, 3, 3)\n",
    "ts.set_to_100()\n",
    "\n",
    "print(type(data))\n",
    "print(data.shape)"
   ]
  },
  {
   "cell_type": "code",
   "execution_count": 10,
   "id": "446508ba",
   "metadata": {},
   "outputs": [
    {
     "data": {
      "text/plain": [
       "(98179, 28051, 14026)"
      ]
     },
     "execution_count": 10,
     "metadata": {},
     "output_type": "execute_result"
    }
   ],
   "source": [
    "(part1, part2, part3) = ts.split(SplittingStrategy.Temporal, 0.7, 0.2, 0.1)\n",
    "\n",
    "len(part1), len(part2), len(part3)"
   ]
  },
  {
   "cell_type": "markdown",
   "id": "14c66941",
   "metadata": {},
   "source": [
    "### Classification Dataset"
   ]
  },
  {
   "cell_type": "code",
   "execution_count": 11,
   "id": "8ac9165b",
   "metadata": {},
   "outputs": [
    {
     "name": "stdout",
     "output_type": "stream",
     "text": [
      "<class 'numpy.ndarray'>\n",
      "(200, 150)\n"
     ]
    }
   ],
   "source": [
    "from aeon.datasets import load_classification\n",
    "X, y = load_classification(\"GunPoint\")\n",
    "X = X.reshape(X.shape[0], -1)\n",
    "\n",
    "print(type(X))\n",
    "print(X.shape)"
   ]
  },
  {
   "cell_type": "code",
   "execution_count": 12,
   "id": "16708dc9",
   "metadata": {},
   "outputs": [
    {
     "data": {
      "text/plain": [
       "(140, 40, 20)"
      ]
     },
     "execution_count": 12,
     "metadata": {},
     "output_type": "execute_result"
    }
   ],
   "source": [
    "ts = BaseDataSet.new_classification(X, y)\n",
    "\n",
    "(part1, part2, part3) = ts.split(SplittingStrategy.Random, 0.7, 0.2, 0.1)\n",
    "\n",
    "len(part1), len(part2), len(part3)"
   ]
  },
  {
   "cell_type": "markdown",
   "id": "1555aba8",
   "metadata": {},
   "source": [
    "Usage of RustDataModule\n"
   ]
  },
  {
   "cell_type": "code",
   "execution_count": 13,
   "id": "00fdd2b4",
   "metadata": {},
   "outputs": [
    {
     "name": "stdout",
     "output_type": "stream",
     "text": [
      "Rust Time Series Wrapper Loaded\n"
     ]
    }
   ],
   "source": [
    "from wrapper import RustDataModule"
   ]
  },
  {
   "cell_type": "code",
   "execution_count": 14,
   "id": "1ab403dc",
   "metadata": {},
   "outputs": [],
   "source": [
    "rust_dm = RustDataModule(data, DatasetType.Forecasting, 3, 3, 3)"
   ]
  },
  {
   "cell_type": "code",
   "execution_count": 15,
   "id": "ef323bdf",
   "metadata": {},
   "outputs": [],
   "source": [
    "rust_dm.setup()"
   ]
  },
  {
   "cell_type": "code",
   "execution_count": 16,
   "id": "c6c80053",
   "metadata": {},
   "outputs": [
    {
     "data": {
      "text/plain": [
       "<torch.utils.data.dataloader.DataLoader at 0x1343506b0>"
      ]
     },
     "execution_count": 16,
     "metadata": {},
     "output_type": "execute_result"
    }
   ],
   "source": [
    "train_dl = rust_dm.train_dataloader()\n",
    "\n",
    "train_dl"
   ]
  },
  {
   "cell_type": "code",
   "execution_count": 17,
   "id": "e03962ab",
   "metadata": {},
   "outputs": [
    {
     "name": "stdout",
     "output_type": "stream",
     "text": [
      "tensor([[100.,   0.,   0.,  ...,   0.,   0.,   0.],\n",
      "        [  0.,   0.,   0.,  ...,   0.,   0.,   0.],\n",
      "        [  0.,   0.,   0.,  ...,   0.,   0.,   0.],\n",
      "        ...,\n",
      "        [  0.,   0.,   0.,  ...,   0.,   0.,   0.],\n",
      "        [  0.,   0.,   0.,  ...,   0.,   0.,   0.],\n",
      "        [  0.,   0.,   0.,  ...,   0.,   0.,   0.]], dtype=torch.float64)\n",
      "torch.Size([32, 370])\n"
     ]
    }
   ],
   "source": [
    "# test wether the dataloader works\n",
    "for batch in train_dl:\n",
    "    print(batch)\n",
    "    print(batch.shape)\n",
    "    break"
   ]
  },
  {
   "cell_type": "code",
   "execution_count": null,
   "id": "c23c6884",
   "metadata": {},
   "outputs": [],
   "source": []
  }
 ],
 "metadata": {
  "kernelspec": {
   "display_name": "env-ids",
   "language": "python",
   "name": "python3"
  },
  "language_info": {
   "codemirror_mode": {
    "name": "ipython",
    "version": 3
   },
   "file_extension": ".py",
   "mimetype": "text/x-python",
   "name": "python",
   "nbconvert_exporter": "python",
   "pygments_lexer": "ipython3",
   "version": "3.12.7"
  }
 },
 "nbformat": 4,
 "nbformat_minor": 5
}
