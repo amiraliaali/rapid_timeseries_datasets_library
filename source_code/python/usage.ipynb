{
 "cells": [
  {
   "cell_type": "markdown",
   "id": "895373b8",
   "metadata": {},
   "source": [
    "## Usage test of the wrapper\n"
   ]
  },
  {
   "cell_type": "code",
   "execution_count": 1,
   "id": "9f4fcb65",
   "metadata": {},
   "outputs": [],
   "source": [
    "# imports\n",
    "import pandas as pd\n",
    "import numpy as np\n",
    "\n",
    "import logging\n",
    "\n",
    "# from wrapper import RustDataModule\n",
    "from rust_time_series.rust_time_series import (\n",
    "    BaseDataSet,\n",
    "    DatasetType,\n",
    "    ImputeStrategy,\n",
    "    SplittingStrategy,\n",
    ")"
   ]
  },
  {
   "cell_type": "code",
   "execution_count": 2,
   "id": "734252bb",
   "metadata": {},
   "outputs": [],
   "source": [
    "# set up logging\n",
    "logging.basicConfig(level=logging.INFO)"
   ]
  },
  {
   "cell_type": "code",
   "execution_count": 3,
   "id": "1a48eb98",
   "metadata": {},
   "outputs": [
    {
     "data": {
      "text/plain": [
       "array([[100.,  55.,  94.,  70.,   1.,  82.,  85.,  31.,   5.,  17.],\n",
       "       [ 27.,  74.,  34.,  38.,  68.,   3.,   9.,  22.,   1.,  70.],\n",
       "       [ 11.,   7.,  67.,  44.,   2.,  43.,  25.,  29.,  93.,  57.],\n",
       "       [ 54.,  90.,  45.,  59.,  45.,   8.,  61.,  38.,  85.,  46.],\n",
       "       [  4.,  38.,  89.,  45.,  74.,  54.,  27.,  44.,  62.,  29.],\n",
       "       [ 47.,  44.,  42.,  24.,  23.,  42.,  88.,  68.,  73.,  95.],\n",
       "       [  2.,  94.,  16.,  87.,  31.,  58.,  56.,  67.,  68.,   6.],\n",
       "       [ 15.,  78.,   8.,  48.,   2.,  18.,  41.,  91.,  96.,  54.],\n",
       "       [ 94.,  18.,  19.,  89.,  62.,  72.,   6.,   7.,  60.,  16.],\n",
       "       [ 73.,  98.,  16.,  49.,  52.,  46.,  70.,   0.,  77.,  67.],\n",
       "       [ 53.,  85.,  39.,  62.,  16.,  92.,  33.,  49.,   9.,  43.],\n",
       "       [  2.,  65.,  45.,   1.,  77.,   4.,  85.,  88.,  53.,  37.],\n",
       "       [ 54.,  65.,  50.,  51.,   6.,  92.,  78.,  63.,  42.,  41.],\n",
       "       [  5.,   5.,  48.,  47.,  62.,  10.,  94.,  47.,  13.,  36.],\n",
       "       [ 36.,  62.,  95.,  40.,  64.,  18.,  63.,  43.,  17.,  51.],\n",
       "       [ 74.,  89.,  22.,   9.,  58.,   6.,  48.,  41.,   5.,   9.],\n",
       "       [ 79.,  25.,  78.,  62.,  16.,  12.,   9.,   1.,  35.,  52.],\n",
       "       [ 46.,  78.,  44.,  33.,  51.,  51.,  99.,  76.,  24.,  14.],\n",
       "       [ 30.,  28.,  73.,  37.,   1.,  16.,  38.,  25.,  47.,  95.],\n",
       "       [ 65.,  46.,  14.,   9.,  46.,  13.,  54.,  95.,  78.,  84.],\n",
       "       [ 93.,  45.,  56.,  36.,  56.,  38.,  61.,  31.,  83.,  48.],\n",
       "       [ 16.,  37.,  45.,  41.,  86.,  47.,  84.,  56.,  99.,  60.],\n",
       "       [ 19.,  55.,  51.,  95.,  29.,  87.,   3.,  83.,  28.,  99.],\n",
       "       [ 34.,  94.,  51.,  74.,  53.,  49.,   7.,  13.,   4.,  64.],\n",
       "       [ 68.,  21.,  38.,   1.,  53.,  22.,  74.,  90.,   9.,  71.],\n",
       "       [ 89.,  30.,  40.,  94.,  60.,  86.,  12.,  74.,  60.,  30.],\n",
       "       [ 29.,  17.,  44.,  74.,  43.,  23.,  25.,  31.,  38.,  34.],\n",
       "       [ 75.,  63.,  33.,  44.,  99.,  52.,  40.,  92.,  85.,  97.],\n",
       "       [ 63.,  11.,  10.,  55.,  18.,  68.,  86.,  81.,  43.,  27.],\n",
       "       [ 18.,  78.,  95.,  85.,  68.,  82.,   2.,   7.,  48.,  68.],\n",
       "       [ 17.,   3.,   5.,  74.,  52.,  47.,  44.,  22.,   2.,  30.],\n",
       "       [  8.,  11.,  31.,   2.,  13.,  88.,  43.,  53.,  58.,  69.],\n",
       "       [ 79.,   7.,   3.,  36.,  69.,  74.,  67.,  99.,  66.,  52.],\n",
       "       [ 87.,  15.,  82.,   0.,  79.,  12.,  52.,  84.,  11.,  83.],\n",
       "       [ 28.,  71.,  15.,  73.,  53.,  89.,  81.,  65.,  35.,  66.],\n",
       "       [ 97.,  79.,  96.,  69.,  25.,  13.,  58.,  10.,  62.,  27.],\n",
       "       [ 24.,  12.,  91.,  80.,  42.,  61.,  14.,  71.,  71.,   6.],\n",
       "       [ 72.,  45.,  94.,  84.,   5.,  99.,  83.,  89.,  51.,  23.],\n",
       "       [ 49.,   6.,  53.,  84.,  27.,  46.,  84.,  34.,  95.,  98.],\n",
       "       [ 30.,  74.,  10.,  59.,  50.,  14.,  50.,  61.,  23.,  26.],\n",
       "       [ 89.,  54.,  88.,  63.,  45.,   6.,  67.,  10.,   7.,  65.],\n",
       "       [  6.,   0.,  89.,  47.,  14.,  48.,  37.,  44.,  83.,  49.],\n",
       "       [ 16.,  36.,  21.,  13.,  30.,   7.,  10.,   8.,  23.,  33.],\n",
       "       [ 85.,  17.,  46.,  39.,  79.,  88.,  72.,  44.,  10.,   5.],\n",
       "       [ 39.,   1.,  50.,  62.,  73.,  14.,  17.,  69.,  19.,  45.],\n",
       "       [ 46.,  10.,  83.,  86.,  56.,  15.,  97.,  96.,   9.,   1.],\n",
       "       [ 14.,  74.,  27.,  15.,  62.,  89.,   8.,   0.,  23.,  31.],\n",
       "       [ 36.,  94.,  58.,  56.,  87.,  38.,  72.,  47.,  50.,  54.],\n",
       "       [ 66.,  21.,  41.,  27.,  44.,  67.,  51.,  37.,  63.,  60.],\n",
       "       [ 56.,  64.,  31.,  55.,  30.,  92.,   9.,  17.,   2.,  27.],\n",
       "       [ 73.,  36.,  84.,   5.,  50.,  85.,  31.,  97.,  18.,  12.],\n",
       "       [ 53.,  68.,  91.,  25.,  13.,  27.,  16.,  34.,  98.,  27.],\n",
       "       [ 78.,  63.,  53.,  46.,  40.,  46.,  42.,  11.,  56.,  28.],\n",
       "       [ 71.,  19.,  35.,  25.,   5.,  65.,  63.,  74.,  85.,  47.],\n",
       "       [ 43.,  37.,  79.,  23.,  40.,  28.,   9.,  10.,  42.,  89.],\n",
       "       [  2.,  44.,  94.,  38.,  95.,   1.,  10.,  74.,  30.,  98.],\n",
       "       [ 31.,  23.,  54.,   4.,  14.,  58.,   9.,  84.,  89.,  35.],\n",
       "       [ 96.,  78.,  72.,   0.,  52.,  77.,  87.,  40.,  71.,   2.],\n",
       "       [ 57.,   5.,  38.,  46.,  69.,  55.,  58.,   2.,  40.,   3.],\n",
       "       [  9.,  55.,  93.,  53.,  59.,  52.,  20.,  15.,  60.,  66.],\n",
       "       [ 95.,  25.,  61.,  45.,  94.,  97.,  95.,  84.,   7.,  75.],\n",
       "       [ 66.,  50.,  27.,  54.,  25.,  20.,  15.,  55.,  23.,  92.],\n",
       "       [ 18.,  20.,  83.,  88.,  88.,  60.,   2.,  35.,  83.,  58.],\n",
       "       [ 88.,  81.,   8.,  60.,  65.,  14.,  63.,  19.,  16.,  25.],\n",
       "       [ 13.,  24.,  14.,  24.,   6.,  84.,  54.,  51.,  94.,  26.],\n",
       "       [ 80.,  21.,  83.,  77.,  27.,  71.,  54.,  64.,  45.,  42.],\n",
       "       [ 53.,  65.,  74.,  11.,   3.,  85.,  14.,  43.,  38.,  12.],\n",
       "       [ 18.,  23.,  50.,  45.,  29.,  49.,  20.,  54.,  81.,  29.],\n",
       "       [ 31.,  40.,  34.,  35.,  56.,  27.,  58.,   9.,  14.,  25.],\n",
       "       [ 35.,  73.,  67.,  40.,   7.,  27.,  67.,  66.,  35.,  84.],\n",
       "       [ 49.,  72.,  90.,  19.,  18.,   6.,  91.,  31.,   6.,  49.],\n",
       "       [ 25.,   3.,  22.,  76.,  15.,  99.,  11.,  70.,  17.,  91.],\n",
       "       [ 79.,  76.,  26.,  18.,  66.,  32.,  72.,   4.,  91.,  41.],\n",
       "       [  2.,  50.,  43.,  79.,  91.,   9.,   8.,  24.,  86.,  29.],\n",
       "       [  0.,   5.,   5.,  92.,  54.,  43.,  96.,  28.,  49.,  33.],\n",
       "       [ 11.,  73.,  45.,  72.,   2.,  87.,  63.,  93.,   3.,  40.],\n",
       "       [ 24.,  62.,  42.,  40.,  69.,  18.,  57.,  23.,  59.,  67.],\n",
       "       [ 60.,  82.,  20.,  91.,  78.,   1.,  75.,  39.,  46.,  39.],\n",
       "       [ 46.,  88.,  85.,  13.,  62.,  18.,  25.,  74.,  55.,  80.],\n",
       "       [ 24.,  27.,  15.,  38.,  26.,   8.,  12.,  75.,  99.,  52.],\n",
       "       [ 44.,  10.,   7.,  10.,  56.,  88.,  55.,  55.,  23.,  82.],\n",
       "       [  5.,  57.,  72.,  44.,  10.,  72.,  64.,  58.,  54.,  23.],\n",
       "       [ 82.,  77.,   9.,  88.,  79.,  13.,  53.,  73.,  24.,  19.],\n",
       "       [ 87.,  54.,  71.,  42.,  29.,  29.,  29.,  78.,   1.,  83.],\n",
       "       [  2.,   7.,  43.,   3.,  18.,  80.,  32.,  16.,  94.,  31.],\n",
       "       [ 32.,  23.,  12.,  18.,  67.,  80.,  62.,  67.,  19.,  35.],\n",
       "       [ 51.,  97.,  92.,  82.,   2.,  15.,  98.,  14.,  15.,  98.],\n",
       "       [ 57.,  53.,  38.,  75.,  66.,  62.,  62.,  70.,   2.,  39.],\n",
       "       [ 85.,  96.,  49.,   0.,  13.,  20.,  53.,  43.,  28.,  28.],\n",
       "       [ 64.,  30.,  22.,  41.,  76.,  25.,  41.,  19.,  33.,  71.],\n",
       "       [ 28.,  36.,  91.,  79.,  31.,  63.,  19.,  18.,  43.,  46.],\n",
       "       [  9.,  20.,  99.,  43.,   2.,  82.,  28.,  99.,  72.,  66.],\n",
       "       [ 91.,  67.,  57.,  73.,  21.,  55.,  40.,  21.,  79.,  91.],\n",
       "       [ 36.,  51.,  74.,  92.,  11.,  91.,  72.,  47.,  56.,   5.],\n",
       "       [ 19.,   8.,  77.,  18.,  39.,  33.,  13.,  35.,  97.,  34.],\n",
       "       [ 88.,  62.,  28.,  55.,  59.,  83.,   2.,  70.,  74.,  22.],\n",
       "       [  7.,  97.,   5.,  51.,  13.,  78.,  57.,  50.,  55.,  30.],\n",
       "       [ 81.,  57.,  50.,  52.,  14.,  55.,  48.,  91.,  82.,  92.],\n",
       "       [ 46.,  17.,  28.,  28.,   8.,  78.,   1.,  25.,  66.,  98.],\n",
       "       [ 18.,  79.,  76.,  97.,   1.,  80.,  86.,  21.,  95.,  25.]])"
      ]
     },
     "execution_count": 3,
     "metadata": {},
     "output_type": "execute_result"
    }
   ],
   "source": [
    "# create dummy 2D array\n",
    "dummy = np.random.randint(0, 100, (100, 10)).astype(float)\n",
    "\n",
    "# Create a RustTimeSeries instance\n",
    "dummy_ts = BaseDataSet(dummy, 3, 3, 1)\n",
    "dummy_ts.set_to_100()\n",
    "\n",
    "\n",
    "dummy"
   ]
  },
  {
   "cell_type": "code",
   "execution_count": 5,
   "id": "f2ec0e44",
   "metadata": {},
   "outputs": [
    {
     "name": "stdout",
     "output_type": "stream",
     "text": [
      "70 20 10\n"
     ]
    }
   ],
   "source": [
    "split = (0.7, 0.2, 0.1)\n",
    "# confirm that split adds up to 1\n",
    "# assert sum(split) == 1.0, \"Split proportions must sum to 1.\"\n",
    "\n",
    "(part1, part2, part3) = dummy_ts.split(SplittingStrategy.Temporal, *split)\n",
    "\n",
    "print(len(part1), len(part2), len(part3))"
   ]
  },
  {
   "cell_type": "markdown",
   "id": "15bec8c0",
   "metadata": {},
   "source": [
    "### Dummy classification dataset"
   ]
  },
  {
   "cell_type": "code",
   "execution_count": 6,
   "id": "76e7438d",
   "metadata": {},
   "outputs": [
    {
     "data": {
      "text/plain": [
       "100"
      ]
     },
     "execution_count": 6,
     "metadata": {},
     "output_type": "execute_result"
    }
   ],
   "source": [
    "labels = np.ones((100, 1), dtype=np.float64)\n",
    "labels = labels.astype(str)\n",
    "labels_list = labels.flatten().tolist()\n",
    "\n",
    "dummy_class = BaseDataSet.new_classification(\n",
    "    dummy, labels_list\n",
    ")\n",
    "\n",
    "dummy_class.len()"
   ]
  },
  {
   "cell_type": "code",
   "execution_count": 7,
   "id": "80ca28ec",
   "metadata": {},
   "outputs": [
    {
     "name": "stdout",
     "output_type": "stream",
     "text": [
      "70 20 10\n"
     ]
    }
   ],
   "source": [
    "split = (0.7, 0.2, 0.1)\n",
    "# confirm that split adds up to 1\n",
    "# assert sum(split) == 1.0, \"Split proportions must sum to 1.\"\n",
    "\n",
    "(part1, part2, part3) = dummy_class.split(SplittingStrategy.Random, *split)\n",
    "\n",
    "print(len(part1), len(part2), len(part3))"
   ]
  },
  {
   "cell_type": "markdown",
   "id": "75d6150e",
   "metadata": {},
   "source": [
    "### Forecasting Dataset"
   ]
  },
  {
   "cell_type": "code",
   "execution_count": 8,
   "id": "34153161",
   "metadata": {},
   "outputs": [
    {
     "data": {
      "text/plain": [
       "array([[0.00000000e+00, 0.00000000e+00, 0.00000000e+00, ...,\n",
       "        0.00000000e+00, 0.00000000e+00, 0.00000000e+00],\n",
       "       [0.00000000e+00, 0.00000000e+00, 0.00000000e+00, ...,\n",
       "        0.00000000e+00, 0.00000000e+00, 0.00000000e+00],\n",
       "       [0.00000000e+00, 0.00000000e+00, 0.00000000e+00, ...,\n",
       "        0.00000000e+00, 0.00000000e+00, 0.00000000e+00],\n",
       "       ...,\n",
       "       [2.53807107e+00, 2.06258890e+01, 1.73761946e+00, ...,\n",
       "        1.53589316e+02, 6.70087977e+02, 6.86486486e+03],\n",
       "       [1.26903553e+00, 2.13371266e+01, 1.73761946e+00, ...,\n",
       "        1.46911519e+02, 6.46627566e+02, 6.54054054e+03],\n",
       "       [2.53807107e+00, 1.99146515e+01, 1.73761946e+00, ...,\n",
       "        1.31886477e+02, 6.73020528e+02, 7.13513514e+03]])"
      ]
     },
     "execution_count": 8,
     "metadata": {},
     "output_type": "execute_result"
    }
   ],
   "source": [
    "# Load the dataset\n",
    "file_path = \"LD2011_2014.txt\"\n",
    "df = pd.read_csv(file_path, sep=\";\", decimal=\",\")\n",
    "# drop first column (date)\n",
    "df = df.drop(columns=[\"date\"])\n",
    "# turn pandas DataFrame into numPy array\n",
    "data = df.to_numpy(dtype=np.float64)\n",
    "\n",
    "data"
   ]
  },
  {
   "cell_type": "code",
   "execution_count": 9,
   "id": "cfa23e9f",
   "metadata": {},
   "outputs": [
    {
     "name": "stdout",
     "output_type": "stream",
     "text": [
      "<class 'numpy.ndarray'>\n",
      "(140256, 370)\n"
     ]
    }
   ],
   "source": [
    "ts = BaseDataSet(data, 3, 3, 3)\n",
    "ts.set_to_100()\n",
    "\n",
    "print(type(data))\n",
    "print(data.shape)"
   ]
  },
  {
   "cell_type": "code",
   "execution_count": 10,
   "id": "446508ba",
   "metadata": {},
   "outputs": [
    {
     "data": {
      "text/plain": [
       "(98179, 28051, 14026)"
      ]
     },
     "execution_count": 10,
     "metadata": {},
     "output_type": "execute_result"
    }
   ],
   "source": [
    "(part1, part2, part3) = ts.split(SplittingStrategy.Temporal, 0.7, 0.2, 0.1)\n",
    "\n",
    "len(part1), len(part2), len(part3)"
   ]
  },
  {
   "cell_type": "markdown",
   "id": "14c66941",
   "metadata": {},
   "source": [
    "### Classification Dataset"
   ]
  },
  {
   "cell_type": "code",
   "execution_count": 11,
   "id": "8ac9165b",
   "metadata": {},
   "outputs": [
    {
     "name": "stdout",
     "output_type": "stream",
     "text": [
      "<class 'numpy.ndarray'>\n",
      "(200, 150)\n"
     ]
    }
   ],
   "source": [
    "from aeon.datasets import load_classification\n",
    "X, y = load_classification(\"GunPoint\")\n",
    "X = X.reshape(X.shape[0], -1)\n",
    "\n",
    "print(type(X))\n",
    "print(X.shape)"
   ]
  },
  {
   "cell_type": "code",
   "execution_count": 12,
   "id": "16708dc9",
   "metadata": {},
   "outputs": [
    {
     "data": {
      "text/plain": [
       "(140, 40, 20)"
      ]
     },
     "execution_count": 12,
     "metadata": {},
     "output_type": "execute_result"
    }
   ],
   "source": [
    "ts = BaseDataSet.new_classification(X, y)\n",
    "\n",
    "(part1, part2, part3) = ts.split(SplittingStrategy.Random, 0.7, 0.2, 0.1)\n",
    "\n",
    "len(part1), len(part2), len(part3)"
   ]
  },
  {
   "cell_type": "markdown",
   "id": "1555aba8",
   "metadata": {},
   "source": [
    "Usage of RustDataModule\n"
   ]
  },
  {
   "cell_type": "code",
   "execution_count": 13,
   "id": "00fdd2b4",
   "metadata": {},
   "outputs": [
    {
     "name": "stdout",
     "output_type": "stream",
     "text": [
      "Rust Time Series Wrapper Loaded\n"
     ]
    }
   ],
   "source": [
    "from wrapper import RustDataModule"
   ]
  },
  {
   "cell_type": "code",
   "execution_count": 14,
   "id": "1ab403dc",
   "metadata": {},
   "outputs": [],
   "source": [
    "rust_dm = RustDataModule(data, DatasetType.Forecasting, 3, 3, 3)"
   ]
  },
  {
   "cell_type": "code",
   "execution_count": 15,
   "id": "ef323bdf",
   "metadata": {},
   "outputs": [],
   "source": [
    "rust_dm.setup()"
   ]
  },
  {
   "cell_type": "code",
   "execution_count": 16,
   "id": "c6c80053",
   "metadata": {},
   "outputs": [
    {
     "data": {
      "text/plain": [
       "<torch.utils.data.dataloader.DataLoader at 0x140e4c620>"
      ]
     },
     "execution_count": 16,
     "metadata": {},
     "output_type": "execute_result"
    }
   ],
   "source": [
    "train_dl = rust_dm.train_dataloader()\n",
    "\n",
    "train_dl"
   ]
  },
  {
   "cell_type": "code",
   "execution_count": 17,
   "id": "e03962ab",
   "metadata": {},
   "outputs": [
    {
     "name": "stdout",
     "output_type": "stream",
     "text": [
      "tensor([[100.,   0.,   0.,  ...,   0.,   0.,   0.],\n",
      "        [  0.,   0.,   0.,  ...,   0.,   0.,   0.],\n",
      "        [  0.,   0.,   0.,  ...,   0.,   0.,   0.],\n",
      "        ...,\n",
      "        [  0.,   0.,   0.,  ...,   0.,   0.,   0.],\n",
      "        [  0.,   0.,   0.,  ...,   0.,   0.,   0.],\n",
      "        [  0.,   0.,   0.,  ...,   0.,   0.,   0.]], dtype=torch.float64)\n",
      "torch.Size([32, 370])\n"
     ]
    }
   ],
   "source": [
    "# test wether the dataloader works\n",
    "for batch in train_dl:\n",
    "    print(batch)\n",
    "    print(batch.shape)\n",
    "    break"
   ]
  },
  {
   "cell_type": "code",
   "execution_count": null,
   "id": "c23c6884",
   "metadata": {},
   "outputs": [],
   "source": []
  }
 ],
 "metadata": {
  "kernelspec": {
   "display_name": "env-ids",
   "language": "python",
   "name": "python3"
  },
  "language_info": {
   "codemirror_mode": {
    "name": "ipython",
    "version": 3
   },
   "file_extension": ".py",
   "mimetype": "text/x-python",
   "name": "python",
   "nbconvert_exporter": "python",
   "pygments_lexer": "ipython3",
   "version": "3.12.7"
  }
 },
 "nbformat": 4,
 "nbformat_minor": 5
}
