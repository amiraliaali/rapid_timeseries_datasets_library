{
 "cells": [
  {
   "cell_type": "markdown",
   "id": "895373b8",
   "metadata": {},
   "source": [
    "## Usage test of the wrapper\n"
   ]
  },
  {
   "cell_type": "code",
   "execution_count": 1,
   "id": "9f4fcb65",
   "metadata": {},
   "outputs": [],
   "source": [
    "# imports\n",
    "import pandas as pd\n",
    "import numpy as np\n",
    "\n",
    "import logging\n",
    "\n",
    "# from wrapper import RustDataModule\n",
    "from rust_time_series.rust_time_series import (\n",
    "    BaseDataSet,\n",
    "    DatasetType,\n",
    "    ImputeStrategy,\n",
    "    SplittingStrategy,\n",
    ")"
   ]
  },
  {
   "cell_type": "code",
   "execution_count": 2,
   "id": "734252bb",
   "metadata": {},
   "outputs": [],
   "source": [
    "# set up logging\n",
    "logging.basicConfig(level=logging.INFO)"
   ]
  },
  {
   "cell_type": "code",
   "execution_count": 3,
   "id": "1a48eb98",
   "metadata": {},
   "outputs": [
    {
     "data": {
      "text/plain": [
       "array([[100.,  52.,  38.,  67.,  26.,  43.,  17.,   4.,  53.,   4.],\n",
       "       [ 26.,  12.,  79.,  12.,  66.,  26.,  54.,  61.,  68.,  18.],\n",
       "       [ 67.,  16.,  80.,   1.,  82.,  61.,  63.,  60.,  64.,  57.],\n",
       "       [ 90.,  30.,  46.,  99.,  30.,  43.,  55.,  99.,  15.,  17.],\n",
       "       [ 92.,   8.,  95.,  62.,  61.,  79.,  42.,  57.,  83.,  58.],\n",
       "       [ 53.,  87.,  65.,  93.,  87.,  35.,  84.,  27.,  74.,  55.],\n",
       "       [  3.,  46.,  18.,  44.,  36.,  39.,  76.,  27.,   4.,  28.],\n",
       "       [  3.,  24.,  31.,  15.,  22.,  93.,  60.,  92.,   4.,  91.],\n",
       "       [ 57.,   2.,  37.,  68.,  49.,  70.,  53.,  39.,  84.,  97.],\n",
       "       [  5.,  69.,  85.,  29.,  66.,  88.,  79.,  49.,  49.,  70.],\n",
       "       [ 87.,  72.,  20.,  53.,  17.,  58.,  62.,  93.,  74.,  65.],\n",
       "       [  9.,   2.,  33.,  60.,   3.,   6.,  16.,  13.,  63.,  53.],\n",
       "       [ 99.,  29.,  49.,  62.,  69.,  47.,  93.,  63.,  14.,  77.],\n",
       "       [ 96.,  45.,  67.,  97.,  14.,  33.,  62.,  63.,  56.,  45.],\n",
       "       [ 77.,  84.,  30.,  80.,  69.,  26.,  65.,   2.,  93.,  94.],\n",
       "       [ 78.,  37.,  92.,  78.,  29.,  78.,  73.,  46.,   2.,  50.],\n",
       "       [ 12.,  14.,  83.,  59.,  51.,  43.,  59.,  60.,   5.,  77.],\n",
       "       [ 41.,  96.,  97.,  94.,   7.,   5.,  28.,  12.,  82.,   8.],\n",
       "       [ 35.,  34.,  86.,  16.,  54.,  56.,  39.,  36.,   3.,  41.],\n",
       "       [ 10.,  90.,  50.,  76.,  15.,  86.,  76.,  75.,  82.,  18.],\n",
       "       [ 15.,  87.,  30.,  98.,  88.,  33.,  97.,  95.,  72.,  84.],\n",
       "       [ 33.,  82.,  78.,   2.,  75.,  49.,  22.,  87.,  85.,  76.],\n",
       "       [  5.,  15.,   5.,  20.,  85.,  68.,  17.,  66.,  96.,  14.],\n",
       "       [ 72.,  44.,  44.,  35.,  52.,  30.,  77.,  65.,  15.,  42.],\n",
       "       [ 63.,  73.,  12.,  16.,  84.,  47.,  67.,  68.,  26.,  70.],\n",
       "       [ 55.,  96.,  19.,  45.,  56.,  62.,  68.,  47.,  15.,  36.],\n",
       "       [ 32.,  74.,  46.,  35.,  52.,  19.,  91.,  97.,  46.,  69.],\n",
       "       [ 19.,   3.,  61.,  71.,  10.,  12.,  73.,  91.,  23.,  66.],\n",
       "       [ 35.,  34.,  94.,  76.,  36.,  59.,  84.,   4.,  41.,  50.],\n",
       "       [ 40.,  15.,  78.,  43.,  16.,  71.,   9.,  68.,  24.,  26.],\n",
       "       [ 46.,  74.,  73.,  79.,  60.,  37.,  13.,  40.,   2.,  55.],\n",
       "       [  0.,  81.,   5.,  98.,  65.,  28.,  82.,  49.,  82.,  21.],\n",
       "       [ 17.,  36.,  32.,  99.,  32.,  77.,  14.,  63.,  61.,  93.],\n",
       "       [ 49.,  86.,  74.,  96.,  80.,  29.,  57.,  68.,  67.,   8.],\n",
       "       [ 97.,  31.,  97.,  64.,  61.,  34.,  65.,  46.,  11.,   7.],\n",
       "       [ 94.,  95.,   8.,  45.,  96.,  16.,  30.,   1.,  57.,  58.],\n",
       "       [ 72.,  51.,  70.,  84.,  88.,  66.,  66.,  62.,  40.,  84.],\n",
       "       [ 64.,  98.,  77.,  12.,  62.,  89.,  24.,  43.,  89.,   1.],\n",
       "       [ 85.,  83.,   1.,  61.,  77.,  31.,  14.,   4.,  62.,  96.],\n",
       "       [ 37.,  41.,  15.,  73.,  80.,   5.,  58.,  59.,  30.,  55.],\n",
       "       [ 69.,   6.,  73.,  21.,   7.,   2.,   3.,  79.,  62.,  44.],\n",
       "       [ 99.,   0.,  55.,  98.,  99.,  13.,  45.,  74.,   0.,  35.],\n",
       "       [ 21.,  22.,  54.,  19.,  21.,  58.,  78.,  59.,  29.,  77.],\n",
       "       [ 78.,  39.,  18.,  63.,  95.,  41.,  47.,  21.,  59.,  49.],\n",
       "       [ 10.,  92.,  97.,  70.,  43.,  43.,   4.,  86.,  87.,  25.],\n",
       "       [ 24.,  39.,  14.,  79.,  48.,  78.,   0.,  31.,   2.,  95.],\n",
       "       [ 19.,  44.,  92.,  55.,  81.,  90.,  51.,  65.,   8.,  87.],\n",
       "       [ 94.,  89.,  11.,   1.,  93.,  50.,  85.,   3.,  45.,  81.],\n",
       "       [ 93.,  66.,   2.,  63.,  75.,  93.,  44.,  60.,  76.,  45.],\n",
       "       [ 16.,  66.,  11.,  12.,  81.,  30.,  54.,  83.,  92.,  81.],\n",
       "       [ 19.,  49.,  65.,  31.,  64.,  91.,  65.,  83.,  71.,  62.],\n",
       "       [ 38.,  63.,  77.,  19.,  31.,  21.,  10.,  58.,  21.,  32.],\n",
       "       [ 45.,   7.,  62.,  57.,  73.,   9.,  19.,   7.,  14.,  47.],\n",
       "       [ 15.,  69.,  29.,  16.,  62.,  66.,  24.,  70.,  94.,  66.],\n",
       "       [ 96.,  15.,  71.,  24.,  52.,  36.,  98.,  92.,   3.,  28.],\n",
       "       [ 26.,  88.,  15.,  71.,   7.,  79.,  24.,  75.,  41.,  30.],\n",
       "       [ 92.,  13.,  62.,  19.,  74.,  50.,  97.,  96.,  48.,  98.],\n",
       "       [ 13.,  97.,  64.,  60.,  95.,  28.,  17.,   1.,  26.,  15.],\n",
       "       [ 66.,  38.,  36.,  83.,  51.,  24.,  50.,  97.,  14.,   2.],\n",
       "       [  4.,   3.,  94.,  63.,  37.,  80.,  41.,  39.,  24.,   0.],\n",
       "       [  3.,  63.,  24.,  58.,  62.,  39.,  26.,  42.,  71.,   9.],\n",
       "       [  4.,  34.,   5.,  77.,  80.,   2.,  41.,  43.,  90.,  42.],\n",
       "       [ 83.,  46.,  25.,   7.,  25.,  83.,  80.,  65.,  62.,  93.],\n",
       "       [  0.,  89.,  39.,  14.,  20.,  41.,  23.,  80.,  28.,   9.],\n",
       "       [ 48.,  96.,  75.,  35.,  29.,  45.,  69.,  51.,  19.,  76.],\n",
       "       [ 77.,  78.,  25.,  79.,  67.,  93.,  65.,  60.,  53.,  73.],\n",
       "       [  7.,  79.,   9.,  33.,  46.,  57.,   8.,  66.,  25.,  11.],\n",
       "       [ 61.,  38.,  49.,   0.,  44.,  15.,  32.,  55.,  46.,  15.],\n",
       "       [ 16.,  45.,  51.,  15.,  29.,  88.,  73.,  43.,   1.,  33.],\n",
       "       [ 82.,  69.,  93.,  68.,  18.,  43.,  82.,  80.,  85.,  84.],\n",
       "       [ 25.,  48.,  70.,  68.,  67.,  81.,  19.,  69.,   7.,  30.],\n",
       "       [ 88.,  25.,  89.,  32.,  41.,  15.,  20.,  35.,  38.,  73.],\n",
       "       [ 48.,  68.,   8.,  99.,  65.,  23.,  28.,  46.,  36.,  83.],\n",
       "       [ 88.,  69.,  73.,  12.,  55.,  26.,   0.,   4.,  24.,   2.],\n",
       "       [ 42.,  19.,  22.,  39.,  95.,   3.,   9.,  27.,  34.,  60.],\n",
       "       [ 12.,   8.,  12.,  91.,  27.,  43.,  54.,  65.,  63.,  51.],\n",
       "       [ 10.,  69.,  86.,  70.,  73.,  21.,  12.,  89.,  30.,  20.],\n",
       "       [ 24.,  32.,   0.,  63.,  37.,  18.,  22.,   8.,  48.,  55.],\n",
       "       [ 14.,  72.,  41.,  94.,  61.,   4.,  91.,  32.,   4.,  97.],\n",
       "       [ 16.,  82.,  84.,  72.,  32.,  86.,   8.,  32.,  82.,   6.],\n",
       "       [ 82.,  81.,   3.,  12.,  74.,  13.,   6.,  25.,  47.,  41.],\n",
       "       [ 32.,  68.,  42.,  33.,  39.,  22.,  20.,  11.,  79.,  27.],\n",
       "       [ 85.,  72.,  31.,   4.,  65.,   9.,  62.,   9.,  59.,  51.],\n",
       "       [ 86.,  53.,  34.,  20.,  35.,  53.,  35.,   7.,  47.,  20.],\n",
       "       [ 61.,  81.,  48.,  63.,  53.,  80.,  47.,  28.,  45.,   9.],\n",
       "       [ 97.,  69.,   5.,  63.,  85.,  68.,  31.,  17.,  60.,  96.],\n",
       "       [ 48.,  32.,  28.,  71.,   2.,  66.,  45.,  35.,  48.,   3.],\n",
       "       [ 34.,  93.,  46.,  16.,  58.,  24.,  30.,  29.,  27.,  63.],\n",
       "       [ 33.,  17.,  37.,  46.,   5.,  28.,  70.,  18.,  54.,  36.],\n",
       "       [ 98.,  58.,   5.,  30.,  15.,  39.,  62.,  23.,  41.,  49.],\n",
       "       [ 69.,  61.,  82.,  10.,  28.,  76.,  98.,   3.,  71.,  53.],\n",
       "       [ 70.,  14.,  56.,  49.,  98.,  70.,  54.,  86.,  79.,  98.],\n",
       "       [ 16.,  86.,  62.,  78.,  24.,  98.,  26.,  46.,   2.,   1.],\n",
       "       [ 14.,  23.,   1.,  32.,  67.,  77.,  61.,  61.,  31.,  25.],\n",
       "       [  5.,  52.,  25.,   2.,  15.,   3.,  63.,  78.,  80.,  23.],\n",
       "       [ 18.,  69.,  26.,  76.,  23.,  75.,  95.,  29.,  50.,  55.],\n",
       "       [ 62.,  55.,  90.,  36.,   2.,  72.,  76.,  75.,   7.,  45.],\n",
       "       [  0.,  96.,  54.,  37.,   3.,  93.,  98.,  53.,   0.,  64.],\n",
       "       [ 50.,  68.,  58.,   4.,  66.,  36.,  73.,  88.,  54.,  60.],\n",
       "       [  9.,  54.,  31.,  73.,  24.,  30.,  14.,  97.,  81.,  48.]])"
      ]
     },
     "execution_count": 3,
     "metadata": {},
     "output_type": "execute_result"
    }
   ],
   "source": [
    "# create dummy 2D array\n",
    "dummy = np.random.randint(0, 100, (100, 10)).astype(float)\n",
    "\n",
    "# Create a RustTimeSeries instance\n",
    "dummy_ts = BaseDataSet(dummy, 3, 3, 1)\n",
    "dummy_ts.set_to_100()\n",
    "\n",
    "\n",
    "dummy"
   ]
  },
  {
   "cell_type": "code",
   "execution_count": 4,
   "id": "68a48587",
   "metadata": {},
   "outputs": [
    {
     "data": {
      "text/plain": [
       "array([[26., 12., 79., 12., 66., 26., 54., 61., 68., 18.],\n",
       "       [67., 16., 80.,  1., 82., 61., 63., 60., 64., 57.],\n",
       "       [90., 30., 46., 99., 30., 43., 55., 99., 15., 17.]])"
      ]
     },
     "execution_count": 4,
     "metadata": {},
     "output_type": "execute_result"
    }
   ],
   "source": [
    "dummy_ts.get(1).sequence()"
   ]
  },
  {
   "cell_type": "code",
   "execution_count": 5,
   "id": "f2ec0e44",
   "metadata": {},
   "outputs": [
    {
     "name": "stdout",
     "output_type": "stream",
     "text": [
      "70 20 10\n"
     ]
    }
   ],
   "source": [
    "split = (0.7, 0.2, 0.1)\n",
    "# confirm that split adds up to 1\n",
    "# assert sum(split) == 1.0, \"Split proportions must sum to 1.\"\n",
    "\n",
    "(part1, part2, part3) = dummy_ts.split(SplittingStrategy.Temporal, *split)\n",
    "\n",
    "print(len(part1), len(part2), len(part3))"
   ]
  },
  {
   "cell_type": "markdown",
   "id": "15bec8c0",
   "metadata": {},
   "source": [
    "### Dummy classification dataset"
   ]
  },
  {
   "cell_type": "code",
   "execution_count": 6,
   "id": "76e7438d",
   "metadata": {},
   "outputs": [
    {
     "data": {
      "text/plain": [
       "100"
      ]
     },
     "execution_count": 6,
     "metadata": {},
     "output_type": "execute_result"
    }
   ],
   "source": [
    "labels = np.ones((100, 1), dtype=np.float64)\n",
    "labels = labels.astype(str)\n",
    "labels_list = labels.flatten().tolist()\n",
    "\n",
    "dummy_class = BaseDataSet.new_classification(\n",
    "    dummy, labels_list\n",
    ")\n",
    "\n",
    "dummy_class.len()"
   ]
  },
  {
   "cell_type": "code",
   "execution_count": 7,
   "id": "80ca28ec",
   "metadata": {},
   "outputs": [
    {
     "name": "stdout",
     "output_type": "stream",
     "text": [
      "70 20 10\n"
     ]
    }
   ],
   "source": [
    "split = (0.7, 0.2, 0.1)\n",
    "# confirm that split adds up to 1\n",
    "# assert sum(split) == 1.0, \"Split proportions must sum to 1.\"\n",
    "\n",
    "(part1, part2, part3) = dummy_class.split(SplittingStrategy.Random, *split)\n",
    "\n",
    "print(len(part1), len(part2), len(part3))"
   ]
  },
  {
   "cell_type": "markdown",
   "id": "75d6150e",
   "metadata": {},
   "source": [
    "### Forecasting Dataset"
   ]
  },
  {
   "cell_type": "code",
   "execution_count": 8,
   "id": "34153161",
   "metadata": {},
   "outputs": [
    {
     "data": {
      "text/plain": [
       "array([[0.00000000e+00, 0.00000000e+00, 0.00000000e+00, ...,\n",
       "        0.00000000e+00, 0.00000000e+00, 0.00000000e+00],\n",
       "       [0.00000000e+00, 0.00000000e+00, 0.00000000e+00, ...,\n",
       "        0.00000000e+00, 0.00000000e+00, 0.00000000e+00],\n",
       "       [0.00000000e+00, 0.00000000e+00, 0.00000000e+00, ...,\n",
       "        0.00000000e+00, 0.00000000e+00, 0.00000000e+00],\n",
       "       ...,\n",
       "       [2.53807107e+00, 2.06258890e+01, 1.73761946e+00, ...,\n",
       "        1.53589316e+02, 6.70087977e+02, 6.86486486e+03],\n",
       "       [1.26903553e+00, 2.13371266e+01, 1.73761946e+00, ...,\n",
       "        1.46911519e+02, 6.46627566e+02, 6.54054054e+03],\n",
       "       [2.53807107e+00, 1.99146515e+01, 1.73761946e+00, ...,\n",
       "        1.31886477e+02, 6.73020528e+02, 7.13513514e+03]])"
      ]
     },
     "execution_count": 8,
     "metadata": {},
     "output_type": "execute_result"
    }
   ],
   "source": [
    "# Load the dataset\n",
    "file_path = \"LD2011_2014.txt\"\n",
    "df = pd.read_csv(file_path, sep=\";\", decimal=\",\")\n",
    "# drop first column (date)\n",
    "df = df.drop(columns=[\"date\"])\n",
    "# turn pandas DataFrame into numPy array\n",
    "data = df.to_numpy(dtype=np.float64)\n",
    "\n",
    "data"
   ]
  },
  {
   "cell_type": "code",
   "execution_count": 9,
   "id": "cfa23e9f",
   "metadata": {},
   "outputs": [
    {
     "name": "stdout",
     "output_type": "stream",
     "text": [
      "<class 'numpy.ndarray'>\n",
      "(140256, 370)\n"
     ]
    }
   ],
   "source": [
    "ts = BaseDataSet(data, 3, 3, 3)\n",
    "ts.set_to_100()\n",
    "\n",
    "print(type(data))\n",
    "print(data.shape)"
   ]
  },
  {
   "cell_type": "code",
   "execution_count": 10,
   "id": "446508ba",
   "metadata": {},
   "outputs": [
    {
     "data": {
      "text/plain": [
       "(98179, 28051, 14026)"
      ]
     },
     "execution_count": 10,
     "metadata": {},
     "output_type": "execute_result"
    }
   ],
   "source": [
    "(part1, part2, part3) = ts.split(SplittingStrategy.Temporal, 0.7, 0.2, 0.1)\n",
    "\n",
    "len(part1), len(part2), len(part3)"
   ]
  },
  {
   "cell_type": "markdown",
   "id": "14c66941",
   "metadata": {},
   "source": [
    "### Classification Dataset"
   ]
  },
  {
   "cell_type": "code",
   "execution_count": 11,
   "id": "8ac9165b",
   "metadata": {},
   "outputs": [
    {
     "name": "stdout",
     "output_type": "stream",
     "text": [
      "<class 'numpy.ndarray'>\n",
      "(200, 150)\n"
     ]
    }
   ],
   "source": [
    "from aeon.datasets import load_classification\n",
    "X, y = load_classification(\"GunPoint\")\n",
    "X = X.reshape(X.shape[0], -1)\n",
    "\n",
    "print(type(X))\n",
    "print(X.shape)"
   ]
  },
  {
   "cell_type": "code",
   "execution_count": 12,
   "id": "16708dc9",
   "metadata": {},
   "outputs": [
    {
     "data": {
      "text/plain": [
       "(140, 40, 20)"
      ]
     },
     "execution_count": 12,
     "metadata": {},
     "output_type": "execute_result"
    }
   ],
   "source": [
    "ts = BaseDataSet.new_classification(X, y)\n",
    "\n",
    "(part1, part2, part3) = ts.split(SplittingStrategy.Random, 0.7, 0.2, 0.1)\n",
    "\n",
    "len(part1), len(part2), len(part3)"
   ]
  },
  {
   "cell_type": "markdown",
   "id": "1555aba8",
   "metadata": {},
   "source": [
    "Usage of RustDataModule\n"
   ]
  },
  {
   "cell_type": "code",
   "execution_count": 13,
   "id": "00fdd2b4",
   "metadata": {},
   "outputs": [
    {
     "name": "stdout",
     "output_type": "stream",
     "text": [
      "Rust Time Series Wrapper Loaded\n"
     ]
    }
   ],
   "source": [
    "from wrapper import RustDataModule"
   ]
  },
  {
   "cell_type": "code",
   "execution_count": 14,
   "id": "1ab403dc",
   "metadata": {},
   "outputs": [],
   "source": [
    "rust_dm = RustDataModule(data, DatasetType.Forecasting, 3, 3, 3)"
   ]
  },
  {
   "cell_type": "code",
   "execution_count": 15,
   "id": "ef323bdf",
   "metadata": {},
   "outputs": [],
   "source": [
    "rust_dm.setup()"
   ]
  },
  {
   "cell_type": "code",
   "execution_count": 16,
   "id": "c6c80053",
   "metadata": {},
   "outputs": [
    {
     "data": {
      "text/plain": [
       "<torch.utils.data.dataloader.DataLoader at 0x13fce4560>"
      ]
     },
     "execution_count": 16,
     "metadata": {},
     "output_type": "execute_result"
    }
   ],
   "source": [
    "train_dl = rust_dm.train_dataloader()\n",
    "\n",
    "train_dl"
   ]
  },
  {
   "cell_type": "code",
   "execution_count": 17,
   "id": "e03962ab",
   "metadata": {},
   "outputs": [
    {
     "name": "stdout",
     "output_type": "stream",
     "text": [
      "tensor([[100.,   0.,   0.,  ...,   0.,   0.,   0.],\n",
      "        [  0.,   0.,   0.,  ...,   0.,   0.,   0.],\n",
      "        [  0.,   0.,   0.,  ...,   0.,   0.,   0.],\n",
      "        ...,\n",
      "        [  0.,   0.,   0.,  ...,   0.,   0.,   0.],\n",
      "        [  0.,   0.,   0.,  ...,   0.,   0.,   0.],\n",
      "        [  0.,   0.,   0.,  ...,   0.,   0.,   0.]], dtype=torch.float64)\n",
      "torch.Size([32, 370])\n"
     ]
    }
   ],
   "source": [
    "# test wether the dataloader works\n",
    "for batch in train_dl:\n",
    "    print(batch)\n",
    "    print(batch.shape)\n",
    "    break"
   ]
  },
  {
   "cell_type": "code",
   "execution_count": null,
   "id": "c23c6884",
   "metadata": {},
   "outputs": [],
   "source": []
  }
 ],
 "metadata": {
  "kernelspec": {
   "display_name": "env-ids",
   "language": "python",
   "name": "python3"
  },
  "language_info": {
   "codemirror_mode": {
    "name": "ipython",
    "version": 3
   },
   "file_extension": ".py",
   "mimetype": "text/x-python",
   "name": "python",
   "nbconvert_exporter": "python",
   "pygments_lexer": "ipython3",
   "version": "3.12.7"
  }
 },
 "nbformat": 4,
 "nbformat_minor": 5
}
