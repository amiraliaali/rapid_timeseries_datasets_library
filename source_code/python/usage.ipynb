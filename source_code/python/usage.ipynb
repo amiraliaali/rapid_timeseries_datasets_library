{
 "cells": [
  {
   "cell_type": "markdown",
   "id": "895373b8",
   "metadata": {},
   "source": [
    "## Usage test of the wrapper\n"
   ]
  },
  {
   "cell_type": "code",
   "execution_count": 1,
   "id": "9f4fcb65",
   "metadata": {},
   "outputs": [],
   "source": [
    "# imports\n",
    "import pandas as pd\n",
    "import numpy as np\n",
    "\n",
    "import logging\n",
    "\n",
    "# from wrapper import RustDataModule\n",
    "from rust_time_series.rust_time_series import (\n",
    "    BaseDataSet,\n",
    "    DatasetType,\n",
    "    ImputeStrategy,\n",
    "    SplittingStrategy,\n",
    ")"
   ]
  },
  {
   "cell_type": "code",
   "execution_count": 2,
   "id": "734252bb",
   "metadata": {},
   "outputs": [],
   "source": [
    "# set up logging\n",
    "logging.basicConfig(level=logging.INFO)"
   ]
  },
  {
   "cell_type": "code",
   "execution_count": 4,
   "id": "1a48eb98",
   "metadata": {},
   "outputs": [
    {
     "data": {
      "text/plain": [
       "array([[100.,  91.,  67.,  72.,  74.,  88.,  88.,  48.,  14.,  28.],\n",
       "       [  1.,  82.,  10.,  56.,  40.,  63.,  85.,  50.,   1.,  67.],\n",
       "       [  3.,  19.,  32.,   9.,  44.,  54.,  97.,  70.,  68.,  68.],\n",
       "       [ 84.,  76.,  15.,  56.,  58.,  22.,  42.,  41.,  65.,  55.],\n",
       "       [ 17.,   8.,   9.,  75.,  27.,  21.,  82.,  27.,  97.,  51.],\n",
       "       [ 43.,  92.,  37.,  82.,  90.,  65.,   1.,  40.,   0.,  85.],\n",
       "       [ 19.,   0.,  76.,  95.,  12.,  38.,  29.,  11.,  35.,  41.],\n",
       "       [ 90.,  66.,  37.,  11.,  88.,  41.,  92.,  39.,  60.,  88.],\n",
       "       [  4.,  43.,  70.,  67.,   8.,  74.,  51.,  58.,  47.,  59.],\n",
       "       [ 71.,   2.,  56.,  37.,  59.,  59.,  35.,  50.,  17.,  98.],\n",
       "       [ 83.,  95.,   0.,  82.,  41.,  42.,  52.,  35.,  53.,  56.],\n",
       "       [ 14.,  15.,  77.,  28.,  28.,  64.,  18.,  42.,  67.,  69.],\n",
       "       [ 12.,  45.,  22.,  30.,  52.,  24.,  27.,  15.,  20.,  37.],\n",
       "       [ 73.,  74.,  68.,  32.,  45.,  84.,  13.,  53.,  17.,  32.],\n",
       "       [ 75.,  14.,  61.,  53.,   2.,  86.,  46.,  14.,  93.,  58.],\n",
       "       [ 51.,  94.,  40.,  64.,  10.,  50.,  45.,  48.,  97.,  75.],\n",
       "       [ 75.,  31.,  26.,  56.,  20.,  14.,  88.,  60.,  57.,  69.],\n",
       "       [ 23.,  94.,  36.,  23.,  10.,  26.,  99.,   0.,  70.,  53.],\n",
       "       [ 98.,  13.,  72.,  22.,  62.,  98.,  61.,  88.,  82.,   0.],\n",
       "       [  6.,  23.,  25.,  90.,  53.,  62.,  22.,  53.,  18.,  71.],\n",
       "       [ 11.,  75.,  73.,  93.,  19.,  79.,  42.,  62.,  57.,  14.],\n",
       "       [ 17.,  44.,  65.,  95.,  52.,  66.,  53.,  91.,  97.,  39.],\n",
       "       [ 76.,  54.,  78.,  59.,  71.,  11.,  41.,  21.,  16.,  79.],\n",
       "       [ 72.,  49.,  99.,  75.,  29.,  62.,  78.,  23.,  10.,  55.],\n",
       "       [ 85.,  27.,  80.,  97.,  58.,  23.,  46.,  51.,  43.,  77.],\n",
       "       [ 23.,  74.,  29.,  80.,  89.,  48.,  82.,  21.,  74.,  74.],\n",
       "       [ 72.,  93.,   1.,   4.,   0.,  24.,  11.,  16.,  85.,  14.],\n",
       "       [ 86.,  32.,  34.,  52.,  63.,  45.,  92.,  95.,  83.,  99.],\n",
       "       [ 93.,  27.,  74.,  86.,  93.,  79.,  78.,  86.,  43.,  11.],\n",
       "       [  6.,  17.,  96.,  88.,  11.,  93.,  72.,  91.,  33.,  77.],\n",
       "       [ 35.,  98.,   7.,   3.,  85.,  76.,  27.,  67.,  71.,  97.],\n",
       "       [ 70.,  28.,  40.,  21.,  47.,  89.,  43.,  66.,  58.,  92.],\n",
       "       [  9.,  47.,  38.,  55.,  47.,  33.,   3.,  18.,  28.,  16.],\n",
       "       [ 61.,  64.,  24.,  25.,  17.,  63.,  22.,  61.,  56.,  99.],\n",
       "       [ 15.,  57.,  94.,  62.,   6.,  74.,  89.,  60.,  91.,  44.],\n",
       "       [ 15.,  39.,  73.,  74.,  69.,  69.,  40.,  13.,  21.,  95.],\n",
       "       [ 82.,  93.,   9.,  36.,  16.,  70.,  70.,  42.,   8.,  45.],\n",
       "       [ 40.,  80.,  88.,  39.,  55.,  91.,  18.,  62.,  41.,  16.],\n",
       "       [ 61.,   0.,   2.,  50.,  15.,   3.,  11.,  87.,  27.,  39.],\n",
       "       [ 25.,  54.,  20.,  54.,  31.,   9.,  78.,  16.,  24.,  33.],\n",
       "       [ 49.,  55.,   2.,  45.,  29.,  23.,  46.,  19.,  46.,  59.],\n",
       "       [ 10.,  39.,  82.,  36.,  96.,  55.,  18.,  89.,  95.,  24.],\n",
       "       [ 44.,  63.,  59.,   2.,  42.,  16.,  28.,  38.,  55.,  42.],\n",
       "       [ 61.,  77.,  81.,  78.,  77.,  89.,  54.,  92.,  35.,  49.],\n",
       "       [ 19.,  86.,  56.,  44.,  92.,  50.,  73.,  15.,  61.,  27.],\n",
       "       [ 24.,  13.,  37.,  59.,  41.,   6.,  28.,  45.,  26.,  59.],\n",
       "       [ 43.,  28.,  90.,  43.,  13.,  73.,  58.,  96.,  14.,  87.],\n",
       "       [ 46.,  69.,  61.,  77.,  30.,   3.,  45.,  51.,  39.,  19.],\n",
       "       [ 58.,  13.,  35.,  58.,  58.,  73.,  24.,  21.,  85.,  86.],\n",
       "       [ 25.,  23.,  64.,  44.,  50.,   7.,  92.,  57.,  92.,  24.],\n",
       "       [  1.,  38.,  92.,   8.,  34.,  61.,  28.,  58.,  44.,  55.],\n",
       "       [ 72.,  48.,   6.,  63.,  48.,  84.,  75.,  51.,  61.,  78.],\n",
       "       [  2.,  89.,   6.,  71.,  95.,  29.,   9.,  29.,  70.,   4.],\n",
       "       [ 52.,  37.,  73.,  55.,  87.,   7.,  41.,  86.,  36.,   5.],\n",
       "       [ 40.,  90.,  78.,  93.,  74.,   8.,  71.,  79.,  24.,  35.],\n",
       "       [ 36.,  24.,  25.,  76.,  58.,  77.,  67.,  97.,  88.,  11.],\n",
       "       [ 75.,  55.,  56.,  11.,  86.,  32.,  75.,  19.,  11.,  45.],\n",
       "       [ 27.,  76.,  14.,  42.,  50.,  17.,  96.,  75.,  54.,   8.],\n",
       "       [ 14.,  25.,  62.,  35.,  32.,  55.,  35.,  73.,  77.,   2.],\n",
       "       [ 83.,  45.,   8.,  16.,  53.,  21.,  28.,  58.,  13.,  24.],\n",
       "       [ 44.,  47.,  61.,  78.,  21.,  65.,  29.,  25.,  55.,  50.],\n",
       "       [ 78.,  54.,  47.,   0.,  54.,  24.,  59.,   0.,  91.,  86.],\n",
       "       [ 43.,  99.,  91.,   1.,  42.,  39.,   4.,   6.,  16.,  25.],\n",
       "       [ 22.,  24.,  16.,  21.,  99.,  70.,  20.,  66.,   2.,  12.],\n",
       "       [ 34.,  99.,  75.,  50.,  89.,  81.,  24.,  96.,  66.,  54.],\n",
       "       [ 54.,   9.,  25.,   2.,  43.,  79.,  43.,  29.,  83.,  64.],\n",
       "       [ 96.,  56.,  98.,  85.,  38.,  14.,  43.,  46.,  52.,  13.],\n",
       "       [ 46.,  68.,  27.,  39.,   2.,  53.,   4.,  60.,  26.,  68.],\n",
       "       [ 42.,  92.,  13.,   4.,  66.,  89.,  97.,  65.,  45.,  40.],\n",
       "       [ 10.,  91.,  69.,  60.,   1.,  52.,  43.,  83.,  85.,  59.],\n",
       "       [ 20.,  41.,  82.,  71.,   9.,  36.,   1.,  55.,  93.,  72.],\n",
       "       [ 50.,  49.,  59.,  49.,  66.,   0.,  83.,  83.,  37.,  63.],\n",
       "       [ 81.,  43.,  69.,  33.,  50.,  91.,  52.,   1.,  96.,   0.],\n",
       "       [ 63.,   2.,   2.,   4.,  77.,  75.,  51.,  24.,  64.,  74.],\n",
       "       [ 36.,  43.,  98.,   0.,  94.,  26.,  93.,   9.,  21.,  53.],\n",
       "       [ 51.,  19.,  28.,  91.,   2.,  31.,   0.,  46.,  10.,  24.],\n",
       "       [ 64.,  31.,  46.,   6.,  90.,  51.,  43.,   9.,  19.,  45.],\n",
       "       [ 84.,  37.,  50.,  39.,  40.,   3.,   7.,  59.,  75.,  51.],\n",
       "       [ 24.,  30.,  75.,   8.,  83.,  88.,   0.,  45.,  11.,  88.],\n",
       "       [  2.,  65.,  72.,  72.,  55.,  42.,  80.,  77.,  78.,  36.],\n",
       "       [ 43.,  31.,   3.,  66.,  61.,  20.,  22.,  67.,  37.,  66.],\n",
       "       [ 48.,  15.,  63.,  84.,  88.,  33.,  90.,  20.,  25.,  42.],\n",
       "       [ 83.,  41.,  11.,  46.,  34.,  70.,  42.,  56.,   4.,  99.],\n",
       "       [ 34.,  89.,  24.,  55.,  34.,  20.,  13.,  89.,  94.,  66.],\n",
       "       [  0.,  18.,   1.,  83.,  88.,  18.,  39.,   2.,  38.,  87.],\n",
       "       [ 66.,  55.,   2.,  39.,  34.,   3.,  46.,  17.,  82.,  25.],\n",
       "       [  8.,  76.,  16.,  71.,  13.,  18.,  61.,  63.,  19.,   1.],\n",
       "       [ 49.,  91.,  54.,  30.,  62.,  61.,  46.,  99.,  31.,  67.],\n",
       "       [ 90.,  94.,  30.,  49.,  83.,  78.,  50.,  28.,  47.,  57.],\n",
       "       [ 51.,  79.,  75.,  26.,  62.,  69.,  89.,  27.,  69.,  74.],\n",
       "       [ 31.,  76.,  95.,  66.,  62.,  12.,  67.,  36.,  88.,  78.],\n",
       "       [ 37.,  91.,  28.,  82.,  20.,  23.,  82.,  94.,  41.,  10.],\n",
       "       [  5.,  69.,  50.,  67.,  58.,  93.,  86.,  86.,  68.,  92.],\n",
       "       [ 39.,  14.,   9.,  15.,  65.,  26.,  66.,  19.,  57.,  85.],\n",
       "       [ 11.,  55.,  62.,  81.,  53.,  18.,  65.,  42.,  23.,  33.],\n",
       "       [ 63.,  62.,  23.,  77.,  75.,  94.,  76.,  93.,  78.,  63.],\n",
       "       [ 50.,  56.,  61.,  21.,  82.,  63.,  49.,  95.,  34.,  10.],\n",
       "       [  6.,  66.,  68.,  90.,  37.,   3.,  21.,   8.,  47.,  40.],\n",
       "       [ 57.,   1.,  34.,  14.,  29.,  44.,  53.,  20.,  88.,  65.],\n",
       "       [ 25.,  50.,  26.,  98.,  76.,  28.,  39.,  48.,  65.,  91.]])"
      ]
     },
     "execution_count": 4,
     "metadata": {},
     "output_type": "execute_result"
    }
   ],
   "source": [
    "# create dummy 2D array\n",
    "dummy = np.random.randint(0, 100, (100, 10)).astype(float)\n",
    "\n",
    "# Create a RustTimeSeries instance\n",
    "dummy_ts = BaseDataSet(dummy, 3, 3, 1)\n",
    "dummy_ts.set_to_100()\n",
    "\n",
    "\n",
    "dummy"
   ]
  },
  {
   "cell_type": "code",
   "execution_count": 5,
   "id": "68a48587",
   "metadata": {},
   "outputs": [
    {
     "data": {
      "text/plain": [
       "array([[ 1., 82., 10., 56., 40., 63., 85., 50.,  1., 67.],\n",
       "       [ 3., 19., 32.,  9., 44., 54., 97., 70., 68., 68.],\n",
       "       [84., 76., 15., 56., 58., 22., 42., 41., 65., 55.]])"
      ]
     },
     "execution_count": 5,
     "metadata": {},
     "output_type": "execute_result"
    }
   ],
   "source": [
    "dummy_ts.get(1).sequence()"
   ]
  },
  {
   "cell_type": "code",
   "execution_count": 6,
   "id": "f2ec0e44",
   "metadata": {},
   "outputs": [
    {
     "name": "stdout",
     "output_type": "stream",
     "text": [
      "70 20 10\n"
     ]
    }
   ],
   "source": [
    "split = (0.7, 0.2, 0.1)\n",
    "# confirm that split adds up to 1\n",
    "# assert sum(split) == 1.0, \"Split proportions must sum to 1.\"\n",
    "\n",
    "(part1, part2, part3) = dummy_ts.split(SplittingStrategy.Temporal, *split)\n",
    "\n",
    "print(len(part1), len(part2), len(part3))"
   ]
  },
  {
   "cell_type": "markdown",
   "id": "15bec8c0",
   "metadata": {},
   "source": [
    "### Dummy classification dataset"
   ]
  },
  {
   "cell_type": "code",
   "execution_count": 8,
   "id": "76e7438d",
   "metadata": {},
   "outputs": [
    {
     "data": {
      "text/plain": [
       "100"
      ]
     },
     "execution_count": 8,
     "metadata": {},
     "output_type": "execute_result"
    }
   ],
   "source": [
    "labels = np.ones((100, 1), dtype=np.float64)\n",
    "labels = labels.astype(str)\n",
    "labels_list = labels.flatten().tolist()\n",
    "\n",
    "dummy_class = BaseDataSet.new_classification(\n",
    "    dummy, labels_list\n",
    ")\n",
    "\n",
    "dummy_class.len()"
   ]
  },
  {
   "cell_type": "markdown",
   "id": "75d6150e",
   "metadata": {},
   "source": [
    "### Forecasting Dataset"
   ]
  },
  {
   "cell_type": "code",
   "execution_count": 9,
   "id": "34153161",
   "metadata": {},
   "outputs": [
    {
     "data": {
      "text/plain": [
       "array([[0.00000000e+00, 0.00000000e+00, 0.00000000e+00, ...,\n",
       "        0.00000000e+00, 0.00000000e+00, 0.00000000e+00],\n",
       "       [0.00000000e+00, 0.00000000e+00, 0.00000000e+00, ...,\n",
       "        0.00000000e+00, 0.00000000e+00, 0.00000000e+00],\n",
       "       [0.00000000e+00, 0.00000000e+00, 0.00000000e+00, ...,\n",
       "        0.00000000e+00, 0.00000000e+00, 0.00000000e+00],\n",
       "       ...,\n",
       "       [2.53807107e+00, 2.06258890e+01, 1.73761946e+00, ...,\n",
       "        1.53589316e+02, 6.70087977e+02, 6.86486486e+03],\n",
       "       [1.26903553e+00, 2.13371266e+01, 1.73761946e+00, ...,\n",
       "        1.46911519e+02, 6.46627566e+02, 6.54054054e+03],\n",
       "       [2.53807107e+00, 1.99146515e+01, 1.73761946e+00, ...,\n",
       "        1.31886477e+02, 6.73020528e+02, 7.13513514e+03]])"
      ]
     },
     "execution_count": 9,
     "metadata": {},
     "output_type": "execute_result"
    }
   ],
   "source": [
    "# Load the dataset\n",
    "file_path = \"LD2011_2014.txt\"\n",
    "df = pd.read_csv(file_path, sep=\";\", decimal=\",\")\n",
    "# drop first column (date)\n",
    "df = df.drop(columns=[\"date\"])\n",
    "# turn pandas DataFrame into numPy array\n",
    "data = df.to_numpy(dtype=np.float64)\n",
    "\n",
    "data"
   ]
  },
  {
   "cell_type": "code",
   "execution_count": 10,
   "id": "cfa23e9f",
   "metadata": {},
   "outputs": [
    {
     "name": "stdout",
     "output_type": "stream",
     "text": [
      "<class 'numpy.ndarray'>\n",
      "(140256, 370)\n"
     ]
    }
   ],
   "source": [
    "ts = BaseDataSet(data, 3, 3, 3)\n",
    "ts.set_to_100()\n",
    "\n",
    "print(type(data))\n",
    "print(data.shape)"
   ]
  },
  {
   "cell_type": "code",
   "execution_count": 11,
   "id": "446508ba",
   "metadata": {},
   "outputs": [
    {
     "data": {
      "text/plain": [
       "(98179, 28051, 14026)"
      ]
     },
     "execution_count": 11,
     "metadata": {},
     "output_type": "execute_result"
    }
   ],
   "source": [
    "(part1, part2, part3) = ts.split(SplittingStrategy.Temporal, 0.7, 0.2, 0.1)\n",
    "\n",
    "len(part1), len(part2), len(part3)"
   ]
  },
  {
   "cell_type": "markdown",
   "id": "14c66941",
   "metadata": {},
   "source": [
    "### Classification Dataset"
   ]
  },
  {
   "cell_type": "code",
   "execution_count": 12,
   "id": "8ac9165b",
   "metadata": {},
   "outputs": [
    {
     "name": "stdout",
     "output_type": "stream",
     "text": [
      "<class 'numpy.ndarray'>\n",
      "(200, 150)\n"
     ]
    }
   ],
   "source": [
    "from aeon.datasets import load_classification\n",
    "X, y = load_classification(\"GunPoint\")\n",
    "X = X.reshape(X.shape[0], -1)\n",
    "\n",
    "print(type(X))\n",
    "print(X.shape)"
   ]
  },
  {
   "cell_type": "code",
   "execution_count": 14,
   "id": "16708dc9",
   "metadata": {},
   "outputs": [],
   "source": [
    "ts = BaseDataSet.new_classification(X, y)"
   ]
  },
  {
   "cell_type": "markdown",
   "id": "1555aba8",
   "metadata": {},
   "source": [
    "Usage of RustDataModule\n"
   ]
  },
  {
   "cell_type": "code",
   "execution_count": 17,
   "id": "00fdd2b4",
   "metadata": {},
   "outputs": [],
   "source": [
    "from wrapper import RustDataModule"
   ]
  },
  {
   "cell_type": "code",
   "execution_count": 18,
   "id": "1ab403dc",
   "metadata": {},
   "outputs": [],
   "source": [
    "rust_dm = RustDataModule(data, DatasetType.Forecasting, 3, 3, 3)"
   ]
  },
  {
   "cell_type": "code",
   "execution_count": 19,
   "id": "ef323bdf",
   "metadata": {},
   "outputs": [],
   "source": [
    "rust_dm.setup()"
   ]
  },
  {
   "cell_type": "code",
   "execution_count": 20,
   "id": "c6c80053",
   "metadata": {},
   "outputs": [
    {
     "data": {
      "text/plain": [
       "<torch.utils.data.dataloader.DataLoader at 0x138937500>"
      ]
     },
     "execution_count": 20,
     "metadata": {},
     "output_type": "execute_result"
    }
   ],
   "source": [
    "train_dl = rust_dm.train_dataloader()\n",
    "\n",
    "train_dl"
   ]
  },
  {
   "cell_type": "code",
   "execution_count": 21,
   "id": "e03962ab",
   "metadata": {},
   "outputs": [
    {
     "name": "stdout",
     "output_type": "stream",
     "text": [
      "tensor([[100.,   0.,   0.,  ...,   0.,   0.,   0.],\n",
      "        [  0.,   0.,   0.,  ...,   0.,   0.,   0.],\n",
      "        [  0.,   0.,   0.,  ...,   0.,   0.,   0.],\n",
      "        ...,\n",
      "        [  0.,   0.,   0.,  ...,   0.,   0.,   0.],\n",
      "        [  0.,   0.,   0.,  ...,   0.,   0.,   0.],\n",
      "        [  0.,   0.,   0.,  ...,   0.,   0.,   0.]], dtype=torch.float64)\n",
      "torch.Size([32, 370])\n"
     ]
    }
   ],
   "source": [
    "# test wether the dataloader works\n",
    "for batch in train_dl:\n",
    "    print(batch)\n",
    "    print(batch.shape)\n",
    "    break"
   ]
  },
  {
   "cell_type": "code",
   "execution_count": null,
   "id": "c23c6884",
   "metadata": {},
   "outputs": [],
   "source": []
  }
 ],
 "metadata": {
  "kernelspec": {
   "display_name": "env-ids",
   "language": "python",
   "name": "python3"
  },
  "language_info": {
   "codemirror_mode": {
    "name": "ipython",
    "version": 3
   },
   "file_extension": ".py",
   "mimetype": "text/x-python",
   "name": "python",
   "nbconvert_exporter": "python",
   "pygments_lexer": "ipython3",
   "version": "3.12.7"
  }
 },
 "nbformat": 4,
 "nbformat_minor": 5
}
