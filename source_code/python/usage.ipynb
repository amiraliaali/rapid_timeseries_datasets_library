{
 "cells": [
  {
   "cell_type": "markdown",
   "id": "895373b8",
   "metadata": {},
   "source": [
    "## Usage test of the wrapper\n"
   ]
  },
  {
   "cell_type": "code",
   "execution_count": 1,
   "id": "9f4fcb65",
   "metadata": {},
   "outputs": [],
   "source": [
    "# imports\n",
    "import pandas as pd\n",
    "import numpy as np\n",
    "\n",
    "import logging\n",
    "\n",
    "# from wrapper import RustDataModule\n",
    "from rust_time_series.rust_time_series import (\n",
    "    ForecastingDataSet,\n",
    "    ClassificationDataSet,\n",
    "    DatasetType,\n",
    "    ImputeStrategy,\n",
    "    SplittingStrategy,\n",
    ")"
   ]
  },
  {
   "cell_type": "code",
   "execution_count": 2,
   "id": "734252bb",
   "metadata": {},
   "outputs": [],
   "source": [
    "# set up logging\n",
    "logging.basicConfig(level=logging.INFO)"
   ]
  },
  {
   "cell_type": "code",
   "execution_count": 25,
   "id": "1a48eb98",
   "metadata": {},
   "outputs": [
    {
     "data": {
      "text/plain": [
       "array([[100.,  73.,  75.,  23.,  55.,  69.,  27.,  64.,  79.,  59.],\n",
       "       [ 75.,  34.,  82.,  87.,  17.,  74.,  47.,  52.,   8.,   9.],\n",
       "       [ 45.,  86.,   9.,  31.,  35.,  11.,  77.,  81.,  22.,   7.],\n",
       "       [ 54.,  16.,  12.,  20.,  87.,  64.,   8.,  26.,  69.,  42.],\n",
       "       [ 42.,   9.,  89.,  21.,  80.,  69.,  45.,  70.,  14.,  99.],\n",
       "       [ 42.,  73.,  50.,  55.,  68.,  69.,  76.,  24.,  37.,  12.],\n",
       "       [ 18.,  44.,  54.,  71.,  66.,  10.,  94.,  31.,  87.,  72.],\n",
       "       [ 56.,  68.,   0.,  43.,  61.,  50.,  14.,  43.,  23.,  91.],\n",
       "       [ 10.,  56.,  14.,  50.,  56.,  52.,  71.,   9.,  49.,  20.],\n",
       "       [  3.,  80.,  45.,   7.,  67.,   3.,  91.,  75.,  79.,  14.],\n",
       "       [ 89.,   7.,  33.,  19.,  48.,   2.,  74.,  18.,  88.,   6.],\n",
       "       [ 71.,  41.,  80.,  83.,  47.,  42.,  80.,  24.,  93.,  12.],\n",
       "       [ 34.,  77.,  46.,  80.,  94.,  41.,  51.,  70.,  40.,   4.],\n",
       "       [ 16.,  89.,  37.,  13.,  78.,   7.,  80.,   0.,   0.,  19.],\n",
       "       [ 61.,  95.,  88.,  74.,   4.,  62.,  30.,  90.,   3.,  85.],\n",
       "       [ 91.,  73.,  32.,   3.,  27.,  92.,   2.,   8.,  27.,  18.],\n",
       "       [ 36.,  47.,  66.,  70.,  17.,  10.,  94.,  58.,  38.,  39.],\n",
       "       [ 67.,  32.,   7.,  44.,   3.,  51.,  24.,  68.,  20.,   7.],\n",
       "       [ 79.,  37.,  78.,  55.,  22.,  34.,   0.,  71.,  55.,   1.],\n",
       "       [ 12.,  61.,  81.,  58.,  53.,  35.,  75.,   0.,  29.,  30.],\n",
       "       [ 92.,  88.,  84.,   4.,  96.,  27.,  86.,  24.,  71.,  86.],\n",
       "       [ 31.,  92.,   0.,  72.,  44.,  31.,  79.,  39.,  29.,  93.],\n",
       "       [ 40.,   1.,  71.,  93.,  91.,  92.,  28.,  84.,  28.,  51.],\n",
       "       [ 27.,  75.,  65.,  92.,  50.,  88.,  17.,  71.,  40.,   1.],\n",
       "       [ 19.,  57.,  73.,  10.,  50.,   1.,  70.,  22.,  49.,  87.],\n",
       "       [ 81.,  58.,  71.,  25.,   2.,  23.,  47.,  30.,  39.,  99.],\n",
       "       [ 95.,  28.,  53.,  48.,  71.,  43.,  13.,  74.,  81.,  91.],\n",
       "       [ 64.,  90.,  44.,  50.,  95.,  47.,  91.,   8.,  94.,   5.],\n",
       "       [ 24.,  78.,  60.,  66.,  67.,  80.,  69.,  47.,  40.,  45.],\n",
       "       [ 49.,  63.,  96.,  31.,  47.,  74.,  56.,  63.,  17.,  45.],\n",
       "       [ 15.,  18.,  89.,  86.,  67.,  80.,  45.,  81.,  51.,  90.],\n",
       "       [ 93.,  37.,  89.,   3.,  15.,  92.,   5.,  55.,  54.,  78.],\n",
       "       [ 14.,  39.,   0.,  67.,   6.,   1.,  11.,  98.,  96.,  49.],\n",
       "       [ 64.,  82.,  35.,  60.,  73.,  70.,  24.,  29.,   5.,  98.],\n",
       "       [  4.,   1.,  93.,  72.,  33.,  87.,  56.,  33.,   3.,   9.],\n",
       "       [  8.,  66.,  32.,  27.,   7.,  31.,  72.,  39.,  61.,  89.],\n",
       "       [ 14.,  15.,   5.,  84.,  87.,  27.,  85.,  86.,  17.,  16.],\n",
       "       [  6.,  10.,  34.,  45.,  22.,  45.,  81.,  65.,  20.,  30.],\n",
       "       [ 49.,  87.,   1.,   3.,  85.,  97.,  69.,  70.,  29.,  28.],\n",
       "       [ 77.,  62.,  40.,  33.,  42.,  98.,  10.,  15.,  15.,  95.],\n",
       "       [ 20.,  60.,  40.,  67.,  99.,  88.,  20.,  21.,  56.,  75.],\n",
       "       [ 21.,  65.,  61.,  41.,  22.,  98.,  15.,  35.,  78.,  52.],\n",
       "       [ 60.,  57.,  65.,  56.,  39.,  81.,  37.,  39.,  48.,  87.],\n",
       "       [ 89.,  35.,  40.,   8.,   6.,  98.,  30.,  81.,  89.,  71.],\n",
       "       [ 44.,  89.,  57.,  15.,  37.,  48.,  75.,  72.,  30.,  41.],\n",
       "       [  1.,  76.,  52.,  45.,  18.,  62.,  62.,  45.,  56.,  81.],\n",
       "       [ 13.,   1.,   8.,  60.,  35.,   5.,  90.,  86.,  65.,  10.],\n",
       "       [ 44.,  41.,  64.,  35.,  75.,  72.,  85.,  77.,  83.,  40.],\n",
       "       [ 16.,  17.,  15.,  57.,  45.,  68.,  66.,  50.,  48.,  70.],\n",
       "       [ 89.,  68.,  57.,  87.,  82.,   4.,  32.,  52.,  18.,  42.],\n",
       "       [ 19.,  17.,  37.,  98.,  45.,  12.,  99.,  50.,  21.,   4.],\n",
       "       [ 76.,  76.,  69.,  37.,  43.,  44.,  21.,  94.,   7.,   0.],\n",
       "       [ 55.,  61.,  60.,  29.,  45.,  10.,  15.,  90.,  40.,  23.],\n",
       "       [ 88.,  67.,  70.,  85.,  54.,  93.,  12.,  51.,  66.,  82.],\n",
       "       [ 26.,  53.,  79.,  62.,  63.,  89.,  17.,  43.,  93.,  71.],\n",
       "       [ 39.,  37.,   6.,  82.,  65.,  70.,  84.,  69.,   1.,   7.],\n",
       "       [ 69.,  42.,  18.,  26.,  67.,  11.,  73.,  57.,  77.,  51.],\n",
       "       [ 25.,  88.,  24.,  28.,  53.,  64.,  14.,  25.,   4.,  47.],\n",
       "       [ 33.,  15.,  77.,  43.,  40.,  12.,  52.,   0.,  33.,  81.],\n",
       "       [ 68.,  47.,  72.,  70.,  99.,  48.,  10.,  33.,  71.,  60.],\n",
       "       [ 44.,  75.,   9.,  92.,  51.,  11.,  90.,  60.,  27.,  55.],\n",
       "       [ 30.,   4.,  72.,   4.,  43.,  67.,  57.,   2.,  50.,  60.],\n",
       "       [  3.,   5.,  14.,  41.,  46.,  20.,  48.,  98.,  82.,  95.],\n",
       "       [ 20.,  79.,  23.,  73.,  30.,   8.,  35.,  40.,  70.,  91.],\n",
       "       [  3.,  55.,   5.,  25.,  72.,  91.,  49.,  55.,  20.,  27.],\n",
       "       [ 11.,  32.,  64.,  83.,  55.,  21.,  35.,  10.,  55.,  95.],\n",
       "       [ 23.,  59.,  87.,  56.,  10.,  58.,  48.,  12.,  60.,  19.],\n",
       "       [ 34.,  78.,  77.,  82.,  81.,  30.,  30.,  28.,  17.,  22.],\n",
       "       [  7.,  82.,  34.,  54.,  54.,  74.,  25.,  99.,  86.,  55.],\n",
       "       [ 22.,   7.,  90.,  55.,  11.,  11.,   4.,  60.,  13.,  46.],\n",
       "       [ 46.,  62.,  29.,  16.,  33.,  95.,   1.,  46.,  93.,  62.],\n",
       "       [ 55.,  96.,  24.,  55.,  70.,  21.,  37.,  51.,   6.,  88.],\n",
       "       [ 87.,  96.,   9.,  11.,  29.,  38.,  84.,  73.,  15.,  55.],\n",
       "       [ 40.,  23.,  33.,  24.,  40.,  48.,  23.,  53.,   4.,  53.],\n",
       "       [ 29.,  53.,  14.,   9.,  86.,  30.,  30.,  47.,  99.,  64.],\n",
       "       [ 60.,  24.,  72.,  37.,  66.,  13.,   3.,  49.,  32.,  72.],\n",
       "       [ 56.,  98.,  96.,  50.,  67.,  82.,  69.,  25.,  82.,  19.],\n",
       "       [ 98.,  85.,  90.,  19.,  12.,  45.,  61.,  66.,  12.,  59.],\n",
       "       [ 84.,   9.,  12.,  48.,  40.,  50.,   8.,  20.,  10.,  16.],\n",
       "       [ 60.,  39.,   6.,  49.,  65.,  47.,  12.,  76.,  14.,  16.],\n",
       "       [ 50.,  75.,  19.,  88.,  50.,  40.,   7.,  13.,  92.,   4.],\n",
       "       [ 21.,  60.,   8.,  69.,  84.,  69.,   8.,  90.,  76.,  88.],\n",
       "       [ 71.,  73.,  51.,  25.,  77.,  24.,  16.,   1.,   4.,  38.],\n",
       "       [ 64.,  16.,  80.,  92.,  88.,  51.,  36.,  72.,  12.,  87.],\n",
       "       [ 19.,  51.,  42.,  46.,   3.,  89.,  50.,  22.,  31.,  41.],\n",
       "       [ 17.,  47.,  66.,  88.,  62.,  20.,  72.,  99.,  79.,  48.],\n",
       "       [ 33.,  71.,  21.,  14.,  16.,  41.,  19.,  49.,  51.,   1.],\n",
       "       [ 52.,  76.,  34.,  89.,  98.,  93.,  85.,   7.,  18.,  51.],\n",
       "       [ 11.,  60.,  42.,  47.,  76.,  61.,  71.,  32.,  14.,  29.],\n",
       "       [ 20.,  12.,  37.,   7.,  80.,   2.,   5.,  75.,  94.,  94.],\n",
       "       [ 22.,   8.,  26.,  45.,  27.,  59.,  63.,  96.,  74.,  63.],\n",
       "       [ 97.,  55.,  78.,  43.,  64.,  19.,   6.,  79.,  75.,  33.],\n",
       "       [ 13.,   9.,  62.,  87.,  97.,  91.,  28.,  62.,  58.,   6.],\n",
       "       [  0.,  98.,  73.,  32.,  86.,   0.,  61.,  53.,  82.,   6.],\n",
       "       [  8.,  20.,  83.,  70.,  61.,  25.,   0.,   1.,  11.,  21.],\n",
       "       [ 26.,  98.,  39.,  96.,  46.,  43.,  37.,   0.,   3.,  18.],\n",
       "       [ 23.,  40.,   8.,  93.,  74.,  44.,  88.,  85.,  36.,  24.],\n",
       "       [ 31.,  11.,  59.,  30.,  96.,  86.,  97.,   3.,  47.,   6.],\n",
       "       [ 80.,  82.,  19.,  12.,  19.,  53.,  60.,  10.,  75.,  60.],\n",
       "       [ 22.,  61.,  29.,  75.,  70.,  51.,  58.,  84.,  26.,  37.]])"
      ]
     },
     "execution_count": 25,
     "metadata": {},
     "output_type": "execute_result"
    }
   ],
   "source": [
    "# create dummy 2D array\n",
    "dummy = np.random.randint(0, 100, (100, 10)).astype(float)\n",
    "\n",
    "# Create a RustTimeSeries instance\n",
    "dummy_ts = ForecastingDataSet(dummy, DatasetType.Forecasting, 3, 3, 1)\n",
    "dummy_ts.set_to_100()\n",
    "\n",
    "\n",
    "dummy"
   ]
  },
  {
   "cell_type": "code",
   "execution_count": 27,
   "id": "68a48587",
   "metadata": {},
   "outputs": [
    {
     "data": {
      "text/plain": [
       "array([[75., 34., 82., 87., 17., 74., 47., 52.,  8.,  9.],\n",
       "       [45., 86.,  9., 31., 35., 11., 77., 81., 22.,  7.],\n",
       "       [54., 16., 12., 20., 87., 64.,  8., 26., 69., 42.]])"
      ]
     },
     "execution_count": 27,
     "metadata": {},
     "output_type": "execute_result"
    }
   ],
   "source": [
    "dummy_ts.get(1).sequence()"
   ]
  },
  {
   "cell_type": "code",
   "execution_count": 5,
   "id": "f2ec0e44",
   "metadata": {},
   "outputs": [
    {
     "name": "stdout",
     "output_type": "stream",
     "text": [
      "70 20 10\n"
     ]
    }
   ],
   "source": [
    "split = (0.7, 0.2, 0.1)\n",
    "# confirm that split adds up to 1\n",
    "# assert sum(split) == 1.0, \"Split proportions must sum to 1.\"\n",
    "\n",
    "(part1, part2, part3) = dummy_ts.split(SplittingStrategy.Temporal, *split)\n",
    "\n",
    "print(len(part1), len(part2), len(part3))"
   ]
  },
  {
   "cell_type": "markdown",
   "id": "15bec8c0",
   "metadata": {},
   "source": [
    "### Dummy classification dataset"
   ]
  },
  {
   "cell_type": "code",
   "execution_count": 6,
   "id": "76e7438d",
   "metadata": {},
   "outputs": [
    {
     "data": {
      "text/plain": [
       "100"
      ]
     },
     "execution_count": 6,
     "metadata": {},
     "output_type": "execute_result"
    }
   ],
   "source": [
    "labels = np.ones((100, 1), dtype=np.float64)\n",
    "labels = labels.astype(str)\n",
    "labels_list = labels.flatten().tolist()\n",
    "\n",
    "dummy_class = ClassificationDataSet(\n",
    "    dummy, labels_list, DatasetType.Classification,\n",
    ")\n",
    "\n",
    "dummy_class.len()"
   ]
  },
  {
   "cell_type": "markdown",
   "id": "75d6150e",
   "metadata": {},
   "source": [
    "### Forecasting Dataset"
   ]
  },
  {
   "cell_type": "code",
   "execution_count": 7,
   "id": "34153161",
   "metadata": {},
   "outputs": [
    {
     "data": {
      "text/plain": [
       "array([[0.00000000e+00, 0.00000000e+00, 0.00000000e+00, ...,\n",
       "        0.00000000e+00, 0.00000000e+00, 0.00000000e+00],\n",
       "       [0.00000000e+00, 0.00000000e+00, 0.00000000e+00, ...,\n",
       "        0.00000000e+00, 0.00000000e+00, 0.00000000e+00],\n",
       "       [0.00000000e+00, 0.00000000e+00, 0.00000000e+00, ...,\n",
       "        0.00000000e+00, 0.00000000e+00, 0.00000000e+00],\n",
       "       ...,\n",
       "       [2.53807107e+00, 2.06258890e+01, 1.73761946e+00, ...,\n",
       "        1.53589316e+02, 6.70087977e+02, 6.86486486e+03],\n",
       "       [1.26903553e+00, 2.13371266e+01, 1.73761946e+00, ...,\n",
       "        1.46911519e+02, 6.46627566e+02, 6.54054054e+03],\n",
       "       [2.53807107e+00, 1.99146515e+01, 1.73761946e+00, ...,\n",
       "        1.31886477e+02, 6.73020528e+02, 7.13513514e+03]])"
      ]
     },
     "execution_count": 7,
     "metadata": {},
     "output_type": "execute_result"
    }
   ],
   "source": [
    "# Load the dataset\n",
    "file_path = \"LD2011_2014.txt\"\n",
    "df = pd.read_csv(file_path, sep=\";\", decimal=\",\")\n",
    "# drop first column (date)\n",
    "df = df.drop(columns=[\"date\"])\n",
    "# turn pandas DataFrame into numPy array\n",
    "data = df.to_numpy(dtype=np.float64)\n",
    "\n",
    "data"
   ]
  },
  {
   "cell_type": "code",
   "execution_count": 8,
   "id": "cfa23e9f",
   "metadata": {},
   "outputs": [
    {
     "name": "stdout",
     "output_type": "stream",
     "text": [
      "<class 'numpy.ndarray'>\n",
      "(140256, 370)\n"
     ]
    }
   ],
   "source": [
    "ts = ForecastingDataSet(data, DatasetType.Forecasting, 3, 3, 3)\n",
    "ts.set_to_100()\n",
    "\n",
    "print(type(data))\n",
    "print(data.shape)"
   ]
  },
  {
   "cell_type": "code",
   "execution_count": 9,
   "id": "446508ba",
   "metadata": {},
   "outputs": [
    {
     "data": {
      "text/plain": [
       "(98179, 28051, 14026)"
      ]
     },
     "execution_count": 9,
     "metadata": {},
     "output_type": "execute_result"
    }
   ],
   "source": [
    "(part1, part2, part3) = ts.split(SplittingStrategy.Temporal, 0.7, 0.2, 0.1)\n",
    "\n",
    "len(part1), len(part2), len(part3)"
   ]
  },
  {
   "cell_type": "markdown",
   "id": "14c66941",
   "metadata": {},
   "source": [
    "### Classification Dataset"
   ]
  },
  {
   "cell_type": "code",
   "execution_count": 10,
   "id": "8ac9165b",
   "metadata": {},
   "outputs": [
    {
     "name": "stdout",
     "output_type": "stream",
     "text": [
      "<class 'numpy.ndarray'>\n",
      "(200, 150)\n"
     ]
    }
   ],
   "source": [
    "from aeon.datasets import load_classification\n",
    "X, y = load_classification(\"GunPoint\")\n",
    "X = X.reshape(X.shape[0], -1)\n",
    "\n",
    "print(type(X))\n",
    "print(X.shape)"
   ]
  },
  {
   "cell_type": "code",
   "execution_count": 11,
   "id": "16708dc9",
   "metadata": {},
   "outputs": [],
   "source": [
    "ts = ClassificationDataSet(X, y, DatasetType.Classification)"
   ]
  },
  {
   "cell_type": "markdown",
   "id": "1555aba8",
   "metadata": {},
   "source": [
    "Usage of RustDataModule\n"
   ]
  },
  {
   "cell_type": "code",
   "execution_count": 12,
   "id": "00fdd2b4",
   "metadata": {},
   "outputs": [
    {
     "name": "stdout",
     "output_type": "stream",
     "text": [
      "Rust Time Series Wrapper Loaded\n"
     ]
    }
   ],
   "source": [
    "from wrapper import RustDataModule"
   ]
  },
  {
   "cell_type": "code",
   "execution_count": 13,
   "id": "1ab403dc",
   "metadata": {},
   "outputs": [],
   "source": [
    "rust_dm = RustDataModule(data, DatasetType.Forecasting, 3, 3, 3)"
   ]
  },
  {
   "cell_type": "code",
   "execution_count": 14,
   "id": "ef323bdf",
   "metadata": {},
   "outputs": [],
   "source": [
    "rust_dm.setup()"
   ]
  },
  {
   "cell_type": "code",
   "execution_count": 15,
   "id": "c6c80053",
   "metadata": {},
   "outputs": [
    {
     "data": {
      "text/plain": [
       "<torch.utils.data.dataloader.DataLoader at 0x132b607d0>"
      ]
     },
     "execution_count": 15,
     "metadata": {},
     "output_type": "execute_result"
    }
   ],
   "source": [
    "train_dl = rust_dm.train_dataloader()\n",
    "\n",
    "train_dl"
   ]
  },
  {
   "cell_type": "code",
   "execution_count": 16,
   "id": "e03962ab",
   "metadata": {},
   "outputs": [
    {
     "name": "stdout",
     "output_type": "stream",
     "text": [
      "tensor([[100.,   0.,   0.,  ...,   0.,   0.,   0.],\n",
      "        [  0.,   0.,   0.,  ...,   0.,   0.,   0.],\n",
      "        [  0.,   0.,   0.,  ...,   0.,   0.,   0.],\n",
      "        ...,\n",
      "        [  0.,   0.,   0.,  ...,   0.,   0.,   0.],\n",
      "        [  0.,   0.,   0.,  ...,   0.,   0.,   0.],\n",
      "        [  0.,   0.,   0.,  ...,   0.,   0.,   0.]], dtype=torch.float64)\n",
      "torch.Size([32, 370])\n"
     ]
    }
   ],
   "source": [
    "# test wether the dataloader works\n",
    "for batch in train_dl:\n",
    "    print(batch)\n",
    "    print(batch.shape)\n",
    "    break"
   ]
  }
 ],
 "metadata": {
  "kernelspec": {
   "display_name": "env-ids",
   "language": "python",
   "name": "python3"
  },
  "language_info": {
   "codemirror_mode": {
    "name": "ipython",
    "version": 3
   },
   "file_extension": ".py",
   "mimetype": "text/x-python",
   "name": "python",
   "nbconvert_exporter": "python",
   "pygments_lexer": "ipython3",
   "version": "3.12.7"
  }
 },
 "nbformat": 4,
 "nbformat_minor": 5
}
