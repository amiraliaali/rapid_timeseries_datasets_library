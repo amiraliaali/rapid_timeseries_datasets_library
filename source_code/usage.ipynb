{
 "cells": [
  {
   "cell_type": "markdown",
   "id": "895373b8",
   "metadata": {},
   "source": [
    "## Usage test of the wrapper\n"
   ]
  },
  {
   "cell_type": "code",
   "execution_count": null,
   "id": "9f4fcb65",
   "metadata": {},
   "outputs": [],
   "source": [
    "# imports\n",
    "import os"
   ]
  },
  {
   "cell_type": "code",
   "execution_count": null,
   "id": "34153161",
   "metadata": {},
   "outputs": [],
   "source": [
    "import pandas as pd\n",
    "import pytorch_lightning as pl\n",
    "from torch.utils.data import Dataset, DataLoader\n",
    "\n",
    "# Load the dataset\n",
    "file_path = \"../data/LD2011_2014.txt\"\n",
    "df = pd.read_csv(file_path, sep=\";\")\n",
    "\n",
    "\n",
    "# Create a custom dataset class\n",
    "class ElectricityDataset(Dataset):\n",
    "    def __init__(self, dataframe):\n",
    "        self.data = dataframe\n",
    "\n",
    "    def __len__(self):\n",
    "        return len(self.data)\n",
    "\n",
    "    def __getitem__(self, idx):\n",
    "        # Adjust this based on your specific data format\n",
    "        return self.data.iloc[idx].values\n",
    "\n",
    "\n",
    "# Create a LightningDataModule\n",
    "class ElectricityDataModule(pl.LightningDataModule):\n",
    "    def __init__(self, dataframe, batch_size=32):\n",
    "        super().__init__()\n",
    "        self.df = dataframe\n",
    "        self.batch_size = batch_size\n",
    "\n",
    "    def setup(self, stage=None):\n",
    "        self.dataset = ElectricityDataset(self.df)\n",
    "\n",
    "    def train_dataloader(self):\n",
    "        return DataLoader(self.dataset, batch_size=self.batch_size)\n",
    "\n",
    "    def val_dataloader(self):\n",
    "        return DataLoader(self.dataset, batch_size=self.batch_size)\n",
    "\n",
    "    def test_dataloader(self):\n",
    "        return DataLoader(self.dataset, batch_size=self.batch_size)\n",
    "\n",
    "\n",
    "# Initialize the data module\n",
    "data_module = ElectricityDataModule(df)\n",
    "\n",
    "# Example of how you might use it with your Rust binding\n",
    "# import your_rust_module\n",
    "# result = your_rust_module.process_data(data_module)"
   ]
  }
 ],
 "metadata": {
  "kernelspec": {
   "display_name": "ai-rust-3",
   "language": "python",
   "name": "python3"
  },
  "language_info": {
   "name": "python",
   "version": "3.12.9"
  }
 },
 "nbformat": 4,
 "nbformat_minor": 5
}
